{
 "cells": [
  {
   "cell_type": "markdown",
   "metadata": {
    "id": "s-Ad60siWmw6"
   },
   "source": [
    "# Lab 2: Promoters, Polymerase, and Position Weight Matricies\n",
    "\n",
    "In this lab we want to understand how the sequence of the promoter helps dictate the strength of expression and how we can use bioinformatics to identify these promoters.\n",
    "\n",
    "**Key Concepts:**\n",
    "\n",
    "- **Conditional gene expression:** Genes that are expressed under the same conditions often have the same regulatory sequences governing their expression. How one groups these genes can have major impacts on the regulatory seqeunces we can predict from them.\n",
    "\n",
    "- **Consensus sequences and logos:** Biologists often represent the binding sites of regulatory proteins as \"logos\". These logos represent the most probable binding sequences of regulators, and often affinity of the regulator towards this \"consensus\" sequence dissaptes as the sequence changes.\n",
    "\n",
    "- **Biophysical basis of promoter recognition**\n",
    "\n",
    "- **Computer-aided promoter design:**"
   ]
  },
  {
   "cell_type": "markdown",
   "metadata": {
    "id": "wrS3XrxNfe-4"
   },
   "source": [
    "------------------------------------"
   ]
  },
  {
   "cell_type": "markdown",
   "metadata": {
    "id": "fOPTxTJMGzYp"
   },
   "source": [
    "# Import packages (Run this hidden cell)"
   ]
  },
  {
   "cell_type": "code",
   "execution_count": null,
   "metadata": {
    "id": "8CzG7kxYYkon"
   },
   "outputs": [],
   "source": [
    "### May take a few seconds to run ### \n",
    "\n",
    "# Colab setup ------------------\n",
    "import os, sys, subprocess\n",
    "if \"google.colab\" in sys.modules:\n",
    "    cmd = \"pip install -U bokeh ipykernel holoviews bootcamp_utils logomaker\"\n",
    "    process = subprocess.Popen(cmd.split(), stdout=subprocess.PIPE, stderr=subprocess.PIPE)\n",
    "    stdout, stderr = process.communicate()\n",
    "    import bootcamp_utils.hv_defaults\n",
    "else:\n",
    "    print('not needed for non-colab setup')\n",
    "# ------------------------------\n",
    "\n",
    "# The Numpy package allows for better numerical computing using Python \n",
    "import numpy as np\n",
    "\n",
    "# For this lab, we use scipy to calculate certain statistical metrics\n",
    "import scipy.stats\n",
    "\n",
    "# Pandas is a data analysis and manipulation package allowing us to do \"Microsoft Excel-like\" manipulations of data\n",
    "import pandas as pd\n",
    "\n",
    "# Seaborn is a data visualization package but we will use it to load in an example datasets for this exercise\n",
    "import seaborn as sns\n",
    "\n",
    "# Bokeh and holoviews are data visualization packages that we will be using to generate interactive figures\n",
    "import bokeh.io\n",
    "import holoviews as hv\n",
    "\n",
    "# Logomaker allows us to create DNA logos and allows visualization of motifs\n",
    "import logomaker as lm\n",
    "\n",
    "# Further tools to make interactive plots\n",
    "from ipywidgets import interact, interactive, fixed, interact_manual\n",
    "import ipywidgets as widgets\n",
    "\n",
    "# Matplotlib\n",
    "import matplotlib.pyplot as plt\n",
    "from matplotlib.patches import Patch\n",
    "\n",
    "\n",
    "from IPython.core.interactiveshell import InteractiveShell\n",
    "InteractiveShell.ast_node_interactivity = \"all\"\n",
    "\n",
    "from IPython.display import Image\n",
    "from IPython.core.display import HTML\n",
    "\n",
    "bokeh.io.output_notebook()\n",
    "hv.extension('bokeh')\n",
    "bootcamp_utils.hv_defaults.set_defaults()\n"
   ]
  },
  {
   "cell_type": "markdown",
   "metadata": {
    "id": "AgjtnrISy3yq"
   },
   "source": [
    "##**Part 1: Putting the fun in functional genomics**\n",
    "\n",
    "First we will download published RNAseq data that explored the transition from exponential to stationary in bioreactors. RNAseq is a powerful technique that allows researchers to \"count\" the abundance of mRNA transcripts in living systems. By measuring which genes are more or less abundant in different conditions we can gain insight into how organisms adapt to their environment. We will cover RNAseq in more depth later in the course."
   ]
  },
  {
   "cell_type": "markdown",
   "metadata": {
    "id": "a-BvrlWTczjv"
   },
   "source": [
    "#**Lab Background**\n",
    "\n",
    "In this lab we will explore the concepts of conditional gene expression and the \"consensus\" promoter sequence through the lens of the model bacterium *Escherichia coli*. Though we will provide a great deal of biological detail on the behavior and physiology of the bacteria, this is not a microbiology course. The detail is presented here to encourage you to think about key concepts of this lab as if you were conducting independent research. \n",
    "\n",
    "When growing in rich media *E. coli* can replicate itself every 20 minutes. This rapid growth is often called logarithmic or exponential growth (Figure 1). This exponential growth continues unabated until one or more key resources become limiting to cells at which point cell division halts and the population enters stationary phase (Figure 1). As the bacteria enter stationary phase, they undergo a massive reallocation of their cellular resources to optimize their physiology for survival instead of rapid growth which is called the stringent response.\n",
    "\n",
    "![here](https://raw.githubusercontent.com/shih-lab/BIS198/main/assets/img/lab2/growth_curve.png)\n",
    "\n",
    "**Figure 1:** *In standard laboratory conditions bacteria will grow in four distinct phases: Lag Phase, Exponential Phase, Stationary Phase, and Death Phase. During lag phase the bacteria that have encountered a new environment must reallocate their physiology so that they rapidly grow. During exponential phase the cells are optimized for rapid cell division and undergo logarithmic proliferation. As environmental resources run out the cells enter stationary phase, where cell division halts and the bacteria once again reallocate their physiology to optimize for survival. If the bacteria remain stationary phase long enough without additional resources they will begin to lose viability as their cellular integrity deteriorates and they enter death phase.*\n",
    "\n",
    "\n",
    "\n",
    "A hallmark of the stringent response is the downregulation of RNAs and proteins that are required at high levels for super fast growth. These factors (such as ribosome components like 16S rRNA, elongation factors like EF-Tu, and RNA processing factors like tmRNA and RNase P) are expressed from very *strong* promoters during exponential phase recognized by the housekeeping RNA polymerase (RNAP) sigma factor 70 (σ70). These strong promoters are able to efficiently recruit RNAP and initiate transcription under fast growing conditions, but their transcriptional output is heavily *downregulated* in stationary phase. This downregulation occurs because the cell produces chemical signals and proteins that work together to decrease the affinity of RNA polymerase to these promoters (Figure 2). By decreasing the affinity for RNAP towards these normally very strong σ70 promoters the cell is able to rapidly conserve resources by limiting translation and allowing for the expression of other genes that will allow it to survive in a more austere environment.\n",
    "\n",
    "<img src=\"https://raw.githubusercontent.com/shih-lab/BIS198/main/assets/img/lab2/stringent_response.png\" height=750>\n",
    "\n",
    "**Figure 2:** *E. coli perceives starvation through uncharged tRNAs entering into the ribosome. This activates the synthesis of the small molecule \"alarmone\" ppGpp. At high concentrations ppGpp will interact with other proteins in the cell to help repress sig70 promoters that express housekeeping genes that are required at high levels for fast growth. Figure adapted from Vinogradova et al. 2020, (https://doi.org/10.1371/journal.pbio.3000593).* \n",
    "\n",
    "Below we will look at real life RNAseq data to identify genes that are strongly downregulated during the transition to stationary phase. Once we have identified those genes, we will use bioinformatics to isolate key sequence elements in the upstream regions of these genes that confer strong expression during exponential growth. After identifying which sequences confer strong expression strengths during exponential phase, we will explore the biophysical basis of this strength by examining protein crystal structures of DNA interacting with RNA-polymerase. Finally we will use predictive software the understand how changing specific sequence elements in the promoters can result in changes in promoter strengths.\n",
    "\n"
   ]
  },
  {
   "cell_type": "code",
   "execution_count": null,
   "metadata": {
    "id": "zsoFR1EhcJuf"
   },
   "outputs": [],
   "source": [
    "#parse in RNAseq data and gene metadata \n",
    "df = pd.read_excel('https://github.com/shih-lab/BIS198/blob/main/datasets/ecolirnaseq.xlsx?raw=true',sheet_name='counts')\n",
    "df = df[[\"ID\", \"SynH_Exp_BXHU\", \"SynH_Stat1_CUOC\"]]\n",
    "df_genes = pd.read_excel('https://github.com/shih-lab/BIS198/blob/main/datasets/ecolirnaseq.xlsx?raw=true',sheet_name='genes')\n",
    "df_rna = pd.merge(df_genes[['Gene Name', 'ID','Product']],df,on='ID')\n",
    "\n",
    "#add one to all RNAseq counts because we don't like dividing by 0\n",
    "df_rna['SynH_Exp_BXHU']=df_rna['SynH_Exp_BXHU']+1\n",
    "df_rna['SynH_Stat1_CUOC']=df_rna['SynH_Stat1_CUOC'] +1\n",
    "\n",
    "#calculate the log2-fold change of genes in stationary phase compared to exponential phase\n",
    "df_rna['ratio'] = df_rna['SynH_Stat1_CUOC']/df_rna['SynH_Exp_BXHU']\n",
    "df_rna['log2change'] = np.log2(df_rna['ratio'])\n",
    "\n",
    "#calculate the count changes in genes in stationary phase compared to exponential phase\n",
    "df_rna['counts_change'] = df_rna['SynH_Stat1_CUOC'] - df_rna['SynH_Exp_BXHU']"
   ]
  },
  {
   "cell_type": "code",
   "execution_count": null,
   "metadata": {
    "colab": {
     "base_uri": "https://localhost:8080/",
     "height": 204
    },
    "id": "FDc2V1_yrrrY",
    "outputId": "476a2449-fa3d-4183-e605-97fe9623b8c3"
   },
   "outputs": [
    {
     "data": {
      "text/html": [
       "<div>\n",
       "<style scoped>\n",
       "    .dataframe tbody tr th:only-of-type {\n",
       "        vertical-align: middle;\n",
       "    }\n",
       "\n",
       "    .dataframe tbody tr th {\n",
       "        vertical-align: top;\n",
       "    }\n",
       "\n",
       "    .dataframe thead th {\n",
       "        text-align: right;\n",
       "    }\n",
       "</style>\n",
       "<table border=\"1\" class=\"dataframe\">\n",
       "  <thead>\n",
       "    <tr style=\"text-align: right;\">\n",
       "      <th></th>\n",
       "      <th>Gene Name</th>\n",
       "      <th>ID</th>\n",
       "      <th>Product</th>\n",
       "      <th>SynH_Exp_BXHU</th>\n",
       "      <th>SynH_Stat1_CUOC</th>\n",
       "      <th>ratio</th>\n",
       "      <th>log2change</th>\n",
       "      <th>counts_change</th>\n",
       "    </tr>\n",
       "  </thead>\n",
       "  <tbody>\n",
       "    <tr>\n",
       "      <th>1000</th>\n",
       "      <td>rhsA</td>\n",
       "      <td>b3593</td>\n",
       "      <td>rhs element protein RhsA</td>\n",
       "      <td>366</td>\n",
       "      <td>10019</td>\n",
       "      <td>27.374317</td>\n",
       "      <td>4.774751</td>\n",
       "      <td>9653</td>\n",
       "    </tr>\n",
       "    <tr>\n",
       "      <th>1001</th>\n",
       "      <td>yibF</td>\n",
       "      <td>b3592</td>\n",
       "      <td>glutathione transferase-like protein YibF</td>\n",
       "      <td>208</td>\n",
       "      <td>1199</td>\n",
       "      <td>5.764423</td>\n",
       "      <td>2.527176</td>\n",
       "      <td>991</td>\n",
       "    </tr>\n",
       "    <tr>\n",
       "      <th>1002</th>\n",
       "      <td>selA</td>\n",
       "      <td>b3591</td>\n",
       "      <td>selenocysteine synthase</td>\n",
       "      <td>1966</td>\n",
       "      <td>3509</td>\n",
       "      <td>1.784842</td>\n",
       "      <td>0.835797</td>\n",
       "      <td>1543</td>\n",
       "    </tr>\n",
       "    <tr>\n",
       "      <th>1003</th>\n",
       "      <td>selB</td>\n",
       "      <td>b3590</td>\n",
       "      <td>selenocysteyl-tRNA-specific translation elonga...</td>\n",
       "      <td>3610</td>\n",
       "      <td>4915</td>\n",
       "      <td>1.361496</td>\n",
       "      <td>0.445193</td>\n",
       "      <td>1305</td>\n",
       "    </tr>\n",
       "    <tr>\n",
       "      <th>1004</th>\n",
       "      <td>yiaY</td>\n",
       "      <td>b3589</td>\n",
       "      <td>L-threonine dehydrogenase</td>\n",
       "      <td>28</td>\n",
       "      <td>1916</td>\n",
       "      <td>68.428571</td>\n",
       "      <td>6.096527</td>\n",
       "      <td>1888</td>\n",
       "    </tr>\n",
       "  </tbody>\n",
       "</table>\n",
       "</div>"
      ],
      "text/plain": [
       "     Gene Name     ID  ... log2change  counts_change\n",
       "1000      rhsA  b3593  ...   4.774751           9653\n",
       "1001      yibF  b3592  ...   2.527176            991\n",
       "1002      selA  b3591  ...   0.835797           1543\n",
       "1003      selB  b3590  ...   0.445193           1305\n",
       "1004      yiaY  b3589  ...   6.096527           1888\n",
       "\n",
       "[5 rows x 8 columns]"
      ]
     },
     "execution_count": 10,
     "metadata": {
      "tags": []
     },
     "output_type": "execute_result"
    }
   ],
   "source": [
    "#visualize a small segment of the dataframe\n",
    "df_rna.iloc[1000:1005]"
   ]
  },
  {
   "cell_type": "markdown",
   "metadata": {
    "id": "ONzqscvsrwSu"
   },
   "source": [
    "We have now parsed in the RNAseq count data and merged it with metadata that gives us some information about each genes function.\n",
    "\n",
    "-----------------------------------------------\n",
    "\n",
    "**Gene Name**: The common name given to genes by researchers over the last 75 years as the function of genes were learned.\n",
    "\n",
    "**ID**: A unique identifier for each gene in *E. coli* that is more systematic and \"machine readable\".\n",
    "\n",
    "**Product**: The known or predicted function of a gene. Genes with unknown functions are often annotated as \"hypothetical proteins\".\n",
    "\n",
    "**SynH_Exp_BXHU**: RNA counts under exponential conditions.\n",
    "\n",
    "**SynH_Stat1_CUOC**: RNA counts under stationary conditions.\n",
    "\n",
    "**ratio**: For each gene, this metric represents the counts from stationary phase divided by the counts from exponential phase.\n",
    "\n",
    "**log2change**: This is the log2 transformed ratio. Researchers commonly present changes in expression as log2 transformed data.\n",
    "\n",
    "**counts_change**: This is the total number of counts from stationary phase minus the total number of counts from exponential phase.\n",
    "\n",
    "----------------------------------------\n",
    "\n",
    "**Question 1:** What does the log2change column tell us about a gene in this experiment? What has happened to a genes expression in this experiment if the number is negative? If it is positive?\n",
    "\n",
    "**Question 2:** Why might it be informative to look at not only the log2change but also the absolute change in counts between conditions?"
   ]
  },
  {
   "cell_type": "markdown",
   "metadata": {
    "id": "JJn6jFR3-mkj"
   },
   "source": [
    "-----------------------------------------------------------------\n",
    "So let's plot this data and see if we can observe any trends."
   ]
  },
  {
   "cell_type": "code",
   "execution_count": null,
   "metadata": {
    "colab": {
     "base_uri": "https://localhost:8080/",
     "height": 653
    },
    "id": "da374n1yrhUg",
    "outputId": "354f305a-b359-4de4-8ec9-e91315d27334"
   },
   "outputs": [
    {
     "data": {
      "text/plain": [
       "<Figure size 720x720 with 0 Axes>"
      ]
     },
     "execution_count": 11,
     "metadata": {
      "tags": []
     },
     "output_type": "execute_result"
    },
    {
     "data": {
      "text/plain": [
       "<matplotlib.collections.PathCollection at 0x7f6ee01787b8>"
      ]
     },
     "execution_count": 11,
     "metadata": {
      "tags": []
     },
     "output_type": "execute_result"
    },
    {
     "data": {
      "text/plain": [
       "Text(0.5, 0, 'log2 counts Exponential')"
      ]
     },
     "execution_count": 11,
     "metadata": {
      "tags": []
     },
     "output_type": "execute_result"
    },
    {
     "data": {
      "text/plain": [
       "Text(0, 0.5, 'log2 counts Stationary')"
      ]
     },
     "execution_count": 11,
     "metadata": {
      "tags": []
     },
     "output_type": "execute_result"
    },
    {
     "data": {
      "text/plain": [
       "(-0.5, 20.0)"
      ]
     },
     "execution_count": 11,
     "metadata": {
      "tags": []
     },
     "output_type": "execute_result"
    },
    {
     "data": {
      "text/plain": [
       "(-0.5, 20.0)"
      ]
     },
     "execution_count": 11,
     "metadata": {
      "tags": []
     },
     "output_type": "execute_result"
    },
    {
     "data": {
      "image/png": "[encoded data removed]",
      "text/plain": [
       "<Figure size 720x720 with 1 Axes>"
      ]
     },
     "metadata": {
      "needs_background": "light",
      "tags": []
     },
     "output_type": "display_data"
    }
   ],
   "source": [
    "#scatter plot of the counts of the two growth conditions\n",
    "plt.figure(figsize=(10,10))\n",
    "plt.scatter(df_rna['SynH_Exp_BXHU'].apply(lambda x: np.log2(x)),\n",
    "            df_rna['SynH_Stat1_CUOC'].apply(lambda x: np.log2(x)),color='black')\n",
    "\n",
    "plt.xlabel('log2 counts Exponential',size=20)\n",
    "plt.ylabel('log2 counts Stationary',size=20)\n",
    "plt.xlim(-0.5,20)\n",
    "plt.ylim(-0.5,20)"
   ]
  },
  {
   "cell_type": "markdown",
   "metadata": {
    "id": "xSiJzmlmeDKs"
   },
   "source": [
    "We have now plotted the two RNAseq datasets against one another on a single scatterplot, where the axes express log2 transformed counts.\n",
    "\n",
    "**Question 3:** What does each datapoint represent?\n",
    "\n",
    "**Question 4:** Where on this plot do we see changes that show genes that are most highly expressed in exponential phase, but not in stationary phase? What about genes that are highly expressed in exponential phase, but not as highly expressed in stationary phase?\n",
    "\n",
    "------------------------------------------\n",
    "\n"
   ]
  },
  {
   "cell_type": "markdown",
   "metadata": {
    "id": "FNyzU23VkZ9J"
   },
   "source": [
    "The plot above however doesn't tell us much about the biological function of those genes that are differentially expressed in these two conditions. By simply sorting the dataframe by log2change or counts_change we can inspect the function of these genes.\n",
    "\n",
    "By sorting the dataframe by the largest positive log2change we can identify which genes are most relatively upregulated during the exponential to stationary transition."
   ]
  },
  {
   "cell_type": "code",
   "execution_count": null,
   "metadata": {
    "colab": {
     "base_uri": "https://localhost:8080/",
     "height": 359
    },
    "id": "VDkEGYssnFQL",
    "outputId": "0729c658-68d8-471d-f5ac-f40c3fc7ed1a"
   },
   "outputs": [
    {
     "data": {
      "text/html": [
       "<div>\n",
       "<style scoped>\n",
       "    .dataframe tbody tr th:only-of-type {\n",
       "        vertical-align: middle;\n",
       "    }\n",
       "\n",
       "    .dataframe tbody tr th {\n",
       "        vertical-align: top;\n",
       "    }\n",
       "\n",
       "    .dataframe thead th {\n",
       "        text-align: right;\n",
       "    }\n",
       "</style>\n",
       "<table border=\"1\" class=\"dataframe\">\n",
       "  <thead>\n",
       "    <tr style=\"text-align: right;\">\n",
       "      <th></th>\n",
       "      <th>Gene Name</th>\n",
       "      <th>Product</th>\n",
       "      <th>SynH_Exp_BXHU</th>\n",
       "      <th>SynH_Stat1_CUOC</th>\n",
       "      <th>log2change</th>\n",
       "      <th>counts_change</th>\n",
       "    </tr>\n",
       "  </thead>\n",
       "  <tbody>\n",
       "    <tr>\n",
       "      <th>543</th>\n",
       "      <td>phnH</td>\n",
       "      <td>carbon-phosphorus lyase core complex subunit PhnH</td>\n",
       "      <td>2</td>\n",
       "      <td>1362</td>\n",
       "      <td>9.411511</td>\n",
       "      <td>1360</td>\n",
       "    </tr>\n",
       "    <tr>\n",
       "      <th>544</th>\n",
       "      <td>phnI</td>\n",
       "      <td>carbon-phosphorus lyase core complex subunit PhnI</td>\n",
       "      <td>4</td>\n",
       "      <td>2328</td>\n",
       "      <td>9.184875</td>\n",
       "      <td>2324</td>\n",
       "    </tr>\n",
       "    <tr>\n",
       "      <th>2058</th>\n",
       "      <td>eutN</td>\n",
       "      <td>putative ethanolamine catabolic microcompartme...</td>\n",
       "      <td>1</td>\n",
       "      <td>410</td>\n",
       "      <td>8.679480</td>\n",
       "      <td>409</td>\n",
       "    </tr>\n",
       "    <tr>\n",
       "      <th>3762</th>\n",
       "      <td>ybeT</td>\n",
       "      <td>Sel1 repeat-containing protein YbeT</td>\n",
       "      <td>1</td>\n",
       "      <td>392</td>\n",
       "      <td>8.614710</td>\n",
       "      <td>391</td>\n",
       "    </tr>\n",
       "    <tr>\n",
       "      <th>1015</th>\n",
       "      <td>yiaN</td>\n",
       "      <td>2,3-diketo-L-gulonate:Na&lt;sup&gt;+&lt;/sup&gt; symporter...</td>\n",
       "      <td>5</td>\n",
       "      <td>1823</td>\n",
       "      <td>8.510171</td>\n",
       "      <td>1818</td>\n",
       "    </tr>\n",
       "    <tr>\n",
       "      <th>3133</th>\n",
       "      <td>ycjU</td>\n",
       "      <td>&amp;beta;-phosphoglucomutase</td>\n",
       "      <td>4</td>\n",
       "      <td>1343</td>\n",
       "      <td>8.391244</td>\n",
       "      <td>1339</td>\n",
       "    </tr>\n",
       "    <tr>\n",
       "      <th>539</th>\n",
       "      <td>phnC</td>\n",
       "      <td>phosphonate/phosphate ABC transporter ATP bind...</td>\n",
       "      <td>5</td>\n",
       "      <td>1596</td>\n",
       "      <td>8.318317</td>\n",
       "      <td>1591</td>\n",
       "    </tr>\n",
       "    <tr>\n",
       "      <th>540</th>\n",
       "      <td>phnD</td>\n",
       "      <td>phosphonate/phosphate ABC transporter periplas...</td>\n",
       "      <td>10</td>\n",
       "      <td>2957</td>\n",
       "      <td>8.207990</td>\n",
       "      <td>2947</td>\n",
       "    </tr>\n",
       "    <tr>\n",
       "      <th>73</th>\n",
       "      <td>ytcA</td>\n",
       "      <td>putative lipoprotein YtcA</td>\n",
       "      <td>1</td>\n",
       "      <td>290</td>\n",
       "      <td>8.179909</td>\n",
       "      <td>289</td>\n",
       "    </tr>\n",
       "    <tr>\n",
       "      <th>2888</th>\n",
       "      <td>insD7</td>\n",
       "      <td>Qin prophage; putative transposase</td>\n",
       "      <td>6</td>\n",
       "      <td>1627</td>\n",
       "      <td>8.083036</td>\n",
       "      <td>1621</td>\n",
       "    </tr>\n",
       "  </tbody>\n",
       "</table>\n",
       "</div>"
      ],
      "text/plain": [
       "     Gene Name  ... counts_change\n",
       "543       phnH  ...          1360\n",
       "544       phnI  ...          2324\n",
       "2058      eutN  ...           409\n",
       "3762      ybeT  ...           391\n",
       "1015      yiaN  ...          1818\n",
       "3133      ycjU  ...          1339\n",
       "539       phnC  ...          1591\n",
       "540       phnD  ...          2947\n",
       "73        ytcA  ...           289\n",
       "2888     insD7  ...          1621\n",
       "\n",
       "[10 rows x 6 columns]"
      ]
     },
     "execution_count": 12,
     "metadata": {
      "tags": []
     },
     "output_type": "execute_result"
    }
   ],
   "source": [
    "df_rna[['Gene Name','Product','SynH_Exp_BXHU','SynH_Stat1_CUOC',\n",
    "       'log2change','counts_change']].sort_values(by='log2change',ascending=False).head(10)"
   ]
  },
  {
   "cell_type": "markdown",
   "metadata": {
    "id": "6uOzHTOvnEW3"
   },
   "source": [
    "Among the most relatively upregulated genes we see that phnH, phnI, phnC, phnD are all highly upregulated (~500x greater expression during stationary phase). These genes are all involved in phosphate scavenging and transport.\n",
    "\n",
    "**Question 5:** In this experiment what was most likely a limiting nutrient as the cells entered stationary phase? Based on the expression of the phn genes during exponential phase can we infer anything about the initial concentration of phosphate available to the cultures?\n",
    "\n",
    "-------------------------------------------------------------------\n",
    "\n",
    "When we sort the data frame by greatest absolute positive difference in counts (counts_change), we see that different genes are at the top of the list."
   ]
  },
  {
   "cell_type": "code",
   "execution_count": null,
   "metadata": {
    "colab": {
     "base_uri": "https://localhost:8080/",
     "height": 359
    },
    "id": "OLVJhnr-nDqI",
    "outputId": "b50f62c1-2789-484c-dc2a-0d02cfc57f4c"
   },
   "outputs": [
    {
     "data": {
      "text/html": [
       "<div>\n",
       "<style scoped>\n",
       "    .dataframe tbody tr th:only-of-type {\n",
       "        vertical-align: middle;\n",
       "    }\n",
       "\n",
       "    .dataframe tbody tr th {\n",
       "        vertical-align: top;\n",
       "    }\n",
       "\n",
       "    .dataframe thead th {\n",
       "        text-align: right;\n",
       "    }\n",
       "</style>\n",
       "<table border=\"1\" class=\"dataframe\">\n",
       "  <thead>\n",
       "    <tr style=\"text-align: right;\">\n",
       "      <th></th>\n",
       "      <th>Gene Name</th>\n",
       "      <th>Product</th>\n",
       "      <th>SynH_Exp_BXHU</th>\n",
       "      <th>SynH_Stat1_CUOC</th>\n",
       "      <th>log2change</th>\n",
       "      <th>counts_change</th>\n",
       "    </tr>\n",
       "  </thead>\n",
       "  <tbody>\n",
       "    <tr>\n",
       "      <th>4369</th>\n",
       "      <td>thrA</td>\n",
       "      <td>fused aspartate kinase/homoserine dehydrogenase 1</td>\n",
       "      <td>18297</td>\n",
       "      <td>38832</td>\n",
       "      <td>1.085639</td>\n",
       "      <td>20535</td>\n",
       "    </tr>\n",
       "    <tr>\n",
       "      <th>4264</th>\n",
       "      <td>aceE</td>\n",
       "      <td>pyruvate dehydrogenase E1 component</td>\n",
       "      <td>4427</td>\n",
       "      <td>20500</td>\n",
       "      <td>2.211223</td>\n",
       "      <td>16073</td>\n",
       "    </tr>\n",
       "    <tr>\n",
       "      <th>2100</th>\n",
       "      <td>cysK</td>\n",
       "      <td>cysteine synthase A</td>\n",
       "      <td>9227</td>\n",
       "      <td>22902</td>\n",
       "      <td>1.311540</td>\n",
       "      <td>13675</td>\n",
       "    </tr>\n",
       "    <tr>\n",
       "      <th>1028</th>\n",
       "      <td>xylA</td>\n",
       "      <td>xylose isomerase</td>\n",
       "      <td>13390</td>\n",
       "      <td>26193</td>\n",
       "      <td>0.968025</td>\n",
       "      <td>12803</td>\n",
       "    </tr>\n",
       "    <tr>\n",
       "      <th>4263</th>\n",
       "      <td>aceF</td>\n",
       "      <td>AceF-dihydrolipoate // AceF-S-acetyldihydrolip...</td>\n",
       "      <td>3333</td>\n",
       "      <td>15117</td>\n",
       "      <td>2.181279</td>\n",
       "      <td>11784</td>\n",
       "    </tr>\n",
       "    <tr>\n",
       "      <th>180</th>\n",
       "      <td>ydbA</td>\n",
       "      <td>putative outer membrane protein, N-terminal fr...</td>\n",
       "      <td>5237</td>\n",
       "      <td>15549</td>\n",
       "      <td>1.570009</td>\n",
       "      <td>10312</td>\n",
       "    </tr>\n",
       "    <tr>\n",
       "      <th>3420</th>\n",
       "      <td>putA</td>\n",
       "      <td>fused DNA-binding transcriptional repressor / ...</td>\n",
       "      <td>510</td>\n",
       "      <td>10181</td>\n",
       "      <td>4.319238</td>\n",
       "      <td>9671</td>\n",
       "    </tr>\n",
       "    <tr>\n",
       "      <th>1000</th>\n",
       "      <td>rhsA</td>\n",
       "      <td>rhs element protein RhsA</td>\n",
       "      <td>366</td>\n",
       "      <td>10019</td>\n",
       "      <td>4.774751</td>\n",
       "      <td>9653</td>\n",
       "    </tr>\n",
       "    <tr>\n",
       "      <th>3721</th>\n",
       "      <td>rhsC</td>\n",
       "      <td>rhs element protein RhsC</td>\n",
       "      <td>1471</td>\n",
       "      <td>10618</td>\n",
       "      <td>2.851643</td>\n",
       "      <td>9147</td>\n",
       "    </tr>\n",
       "    <tr>\n",
       "      <th>3903</th>\n",
       "      <td>rhsD</td>\n",
       "      <td>protein RhsD</td>\n",
       "      <td>795</td>\n",
       "      <td>9827</td>\n",
       "      <td>3.627724</td>\n",
       "      <td>9032</td>\n",
       "    </tr>\n",
       "  </tbody>\n",
       "</table>\n",
       "</div>"
      ],
      "text/plain": [
       "     Gene Name  ... counts_change\n",
       "4369      thrA  ...         20535\n",
       "4264      aceE  ...         16073\n",
       "2100      cysK  ...         13675\n",
       "1028      xylA  ...         12803\n",
       "4263      aceF  ...         11784\n",
       "180       ydbA  ...         10312\n",
       "3420      putA  ...          9671\n",
       "1000      rhsA  ...          9653\n",
       "3721      rhsC  ...          9147\n",
       "3903      rhsD  ...          9032\n",
       "\n",
       "[10 rows x 6 columns]"
      ]
     },
     "execution_count": 13,
     "metadata": {
      "tags": []
     },
     "output_type": "execute_result"
    }
   ],
   "source": [
    "df_rna[['Gene Name','Product','SynH_Exp_BXHU','SynH_Stat1_CUOC',\n",
    "       'log2change','counts_change']].sort_values(by='counts_change',ascending=False).head(10)"
   ]
  },
  {
   "cell_type": "markdown",
   "metadata": {
    "id": "_XHCMtPanCrG"
   },
   "source": [
    "Amongst the top most upregulated genes by absolute counts for thrA (a gene required for the synthesis of the amino acid threonine), and cysK (a gene required for the synthesis of the amino acid cysteine).\n",
    "\n",
    "**Question 6:** What does the observed upregulation of these genes imply about the internal pools of threonine and cysteine during stationary phase? Why do you think that though these genes are amongst the most absolutely upregulated genes when measured by counts, that neither of these genes show a particularly large log2change (<2)?\n",
    "\n",
    "------------\n",
    "We have already looked at what is most upregulated during the exponential--> stationary phase transition.  Now let's look at what is downregulated during this transition."
   ]
  },
  {
   "cell_type": "code",
   "execution_count": null,
   "metadata": {
    "colab": {
     "base_uri": "https://localhost:8080/",
     "height": 359
    },
    "id": "Mimnnc6LnOb3",
    "outputId": "ae94ccab-b05a-475a-ba8c-0dc474bf6af3"
   },
   "outputs": [
    {
     "data": {
      "text/html": [
       "<div>\n",
       "<style scoped>\n",
       "    .dataframe tbody tr th:only-of-type {\n",
       "        vertical-align: middle;\n",
       "    }\n",
       "\n",
       "    .dataframe tbody tr th {\n",
       "        vertical-align: top;\n",
       "    }\n",
       "\n",
       "    .dataframe thead th {\n",
       "        text-align: right;\n",
       "    }\n",
       "</style>\n",
       "<table border=\"1\" class=\"dataframe\">\n",
       "  <thead>\n",
       "    <tr style=\"text-align: right;\">\n",
       "      <th></th>\n",
       "      <th>Gene Name</th>\n",
       "      <th>Product</th>\n",
       "      <th>SynH_Exp_BXHU</th>\n",
       "      <th>SynH_Stat1_CUOC</th>\n",
       "      <th>log2change</th>\n",
       "    </tr>\n",
       "  </thead>\n",
       "  <tbody>\n",
       "    <tr>\n",
       "      <th>1080</th>\n",
       "      <td>gadE</td>\n",
       "      <td>DNA-binding transcriptional activator GadE</td>\n",
       "      <td>8655</td>\n",
       "      <td>52</td>\n",
       "      <td>-7.378878</td>\n",
       "    </tr>\n",
       "    <tr>\n",
       "      <th>1082</th>\n",
       "      <td>hdeA</td>\n",
       "      <td>periplasmic acid stress chaperone HdeA</td>\n",
       "      <td>47430</td>\n",
       "      <td>300</td>\n",
       "      <td>-7.304694</td>\n",
       "    </tr>\n",
       "    <tr>\n",
       "      <th>2970</th>\n",
       "      <td>gadB</td>\n",
       "      <td>glutamate decarboxylase B</td>\n",
       "      <td>196014</td>\n",
       "      <td>1537</td>\n",
       "      <td>-6.994696</td>\n",
       "    </tr>\n",
       "    <tr>\n",
       "      <th>1083</th>\n",
       "      <td>hdeB</td>\n",
       "      <td>periplasmic acid stress chaperone HdeB</td>\n",
       "      <td>21226</td>\n",
       "      <td>176</td>\n",
       "      <td>-6.914113</td>\n",
       "    </tr>\n",
       "    <tr>\n",
       "      <th>408</th>\n",
       "      <td>pyrI</td>\n",
       "      <td>aspartate carbamoyltransferase, PyrI subunit</td>\n",
       "      <td>71072</td>\n",
       "      <td>608</td>\n",
       "      <td>-6.869066</td>\n",
       "    </tr>\n",
       "    <tr>\n",
       "      <th>2971</th>\n",
       "      <td>gadC</td>\n",
       "      <td>L-glutamate:4-aminobutyrate antiporter</td>\n",
       "      <td>146286</td>\n",
       "      <td>1329</td>\n",
       "      <td>-6.782307</td>\n",
       "    </tr>\n",
       "    <tr>\n",
       "      <th>407</th>\n",
       "      <td>pyrB</td>\n",
       "      <td>aspartate carbamoyltransferase catalytic subunit</td>\n",
       "      <td>140918</td>\n",
       "      <td>1708</td>\n",
       "      <td>-6.366404</td>\n",
       "    </tr>\n",
       "    <tr>\n",
       "      <th>2670</th>\n",
       "      <td>dmlA</td>\n",
       "      <td>D-malate/3-isopropylmalate dehydrogenase (deca...</td>\n",
       "      <td>87244</td>\n",
       "      <td>1543</td>\n",
       "      <td>-5.821246</td>\n",
       "    </tr>\n",
       "    <tr>\n",
       "      <th>1086</th>\n",
       "      <td>slp</td>\n",
       "      <td>starvation lipoprotein</td>\n",
       "      <td>18758</td>\n",
       "      <td>480</td>\n",
       "      <td>-5.288328</td>\n",
       "    </tr>\n",
       "    <tr>\n",
       "      <th>409</th>\n",
       "      <td>ridA</td>\n",
       "      <td>enamine/imine deaminase, redox-regulated chape...</td>\n",
       "      <td>34381</td>\n",
       "      <td>897</td>\n",
       "      <td>-5.260360</td>\n",
       "    </tr>\n",
       "  </tbody>\n",
       "</table>\n",
       "</div>"
      ],
      "text/plain": [
       "     Gene Name  ... log2change\n",
       "1080      gadE  ...  -7.378878\n",
       "1082      hdeA  ...  -7.304694\n",
       "2970      gadB  ...  -6.994696\n",
       "1083      hdeB  ...  -6.914113\n",
       "408       pyrI  ...  -6.869066\n",
       "2971      gadC  ...  -6.782307\n",
       "407       pyrB  ...  -6.366404\n",
       "2670      dmlA  ...  -5.821246\n",
       "1086       slp  ...  -5.288328\n",
       "409       ridA  ...  -5.260360\n",
       "\n",
       "[10 rows x 5 columns]"
      ]
     },
     "execution_count": 14,
     "metadata": {
      "tags": []
     },
     "output_type": "execute_result"
    }
   ],
   "source": [
    "df_rna[['Gene Name','Product','SynH_Exp_BXHU','SynH_Stat1_CUOC',\n",
    "       'log2change']].sort_values(by='log2change',ascending=True).head(10)"
   ]
  },
  {
   "cell_type": "markdown",
   "metadata": {
    "id": "JdZdbWNXnT8u"
   },
   "source": [
    "[link text](https://)You'll notice that some of the most downregulated genes (gadE, gadB, gadC, and hbeB) are all involved in acid stress. This is likely due to the fact that when growing at its fastest *E. coli* grows via fermentation, resulting in the production of many acidic byproducts such as acetate. Thus fast growing cells must contend with this acidic stress.\n",
    "\n",
    "--------------\n",
    "\n",
    "Now lets explore the genes that are most  downregulated when measured by change in counts during the transition to stationary phase."
   ]
  },
  {
   "cell_type": "code",
   "execution_count": null,
   "metadata": {
    "colab": {
     "base_uri": "https://localhost:8080/",
     "height": 669
    },
    "id": "AQCBZubhnPed",
    "outputId": "6871a1a1-4cf1-4889-fc84-db84a811c5e4"
   },
   "outputs": [
    {
     "data": {
      "text/html": [
       "<div>\n",
       "<style scoped>\n",
       "    .dataframe tbody tr th:only-of-type {\n",
       "        vertical-align: middle;\n",
       "    }\n",
       "\n",
       "    .dataframe tbody tr th {\n",
       "        vertical-align: top;\n",
       "    }\n",
       "\n",
       "    .dataframe thead th {\n",
       "        text-align: right;\n",
       "    }\n",
       "</style>\n",
       "<table border=\"1\" class=\"dataframe\">\n",
       "  <thead>\n",
       "    <tr style=\"text-align: right;\">\n",
       "      <th></th>\n",
       "      <th>Gene Name</th>\n",
       "      <th>Product</th>\n",
       "      <th>SynH_Exp_BXHU</th>\n",
       "      <th>SynH_Stat1_CUOC</th>\n",
       "      <th>log2change</th>\n",
       "      <th>counts_change</th>\n",
       "    </tr>\n",
       "  </thead>\n",
       "  <tbody>\n",
       "    <tr>\n",
       "      <th>1446</th>\n",
       "      <td>rnpB</td>\n",
       "      <td>RNase P catalytic RNA component</td>\n",
       "      <td>949408</td>\n",
       "      <td>275071</td>\n",
       "      <td>-1.787224</td>\n",
       "      <td>-674337</td>\n",
       "    </tr>\n",
       "    <tr>\n",
       "      <th>1900</th>\n",
       "      <td>ssrA</td>\n",
       "      <td>tmRNA</td>\n",
       "      <td>836700</td>\n",
       "      <td>230403</td>\n",
       "      <td>-1.860551</td>\n",
       "      <td>-606297</td>\n",
       "    </tr>\n",
       "    <tr>\n",
       "      <th>261</th>\n",
       "      <td>csrB</td>\n",
       "      <td>small regulatory RNA CsrB</td>\n",
       "      <td>623178</td>\n",
       "      <td>260368</td>\n",
       "      <td>-1.259092</td>\n",
       "      <td>-362810</td>\n",
       "    </tr>\n",
       "    <tr>\n",
       "      <th>2287</th>\n",
       "      <td>ompC</td>\n",
       "      <td>outer membrane porin C</td>\n",
       "      <td>353442</td>\n",
       "      <td>36375</td>\n",
       "      <td>-3.280454</td>\n",
       "      <td>-317067</td>\n",
       "    </tr>\n",
       "    <tr>\n",
       "      <th>2691</th>\n",
       "      <td>gapA</td>\n",
       "      <td>glyceraldehyde-3-phosphate dehydrogenase A</td>\n",
       "      <td>318154</td>\n",
       "      <td>45160</td>\n",
       "      <td>-2.816608</td>\n",
       "      <td>-272994</td>\n",
       "    </tr>\n",
       "    <tr>\n",
       "      <th>3209</th>\n",
       "      <td>adhE</td>\n",
       "      <td>fused acetaldehyde-CoA dehydrogenase and iron-...</td>\n",
       "      <td>309420</td>\n",
       "      <td>108494</td>\n",
       "      <td>-1.511951</td>\n",
       "      <td>-200926</td>\n",
       "    </tr>\n",
       "    <tr>\n",
       "      <th>2970</th>\n",
       "      <td>gadB</td>\n",
       "      <td>glutamate decarboxylase B</td>\n",
       "      <td>196014</td>\n",
       "      <td>1537</td>\n",
       "      <td>-6.994696</td>\n",
       "      <td>-194477</td>\n",
       "    </tr>\n",
       "    <tr>\n",
       "      <th>1244</th>\n",
       "      <td>fusA</td>\n",
       "      <td>elongation factor G</td>\n",
       "      <td>259693</td>\n",
       "      <td>76012</td>\n",
       "      <td>-1.772508</td>\n",
       "      <td>-183681</td>\n",
       "    </tr>\n",
       "    <tr>\n",
       "      <th>3475</th>\n",
       "      <td>ompA</td>\n",
       "      <td>outer membrane protein A</td>\n",
       "      <td>206754</td>\n",
       "      <td>45709</td>\n",
       "      <td>-2.177365</td>\n",
       "      <td>-161045</td>\n",
       "    </tr>\n",
       "    <tr>\n",
       "      <th>2971</th>\n",
       "      <td>gadC</td>\n",
       "      <td>L-glutamate:4-aminobutyrate antiporter</td>\n",
       "      <td>146286</td>\n",
       "      <td>1329</td>\n",
       "      <td>-6.782307</td>\n",
       "      <td>-144957</td>\n",
       "    </tr>\n",
       "    <tr>\n",
       "      <th>789</th>\n",
       "      <td>metE</td>\n",
       "      <td>cobalamin-independent homocysteine transmethylase</td>\n",
       "      <td>151815</td>\n",
       "      <td>8934</td>\n",
       "      <td>-4.086864</td>\n",
       "      <td>-142881</td>\n",
       "    </tr>\n",
       "    <tr>\n",
       "      <th>407</th>\n",
       "      <td>pyrB</td>\n",
       "      <td>aspartate carbamoyltransferase catalytic subunit</td>\n",
       "      <td>140918</td>\n",
       "      <td>1708</td>\n",
       "      <td>-6.366404</td>\n",
       "      <td>-139210</td>\n",
       "    </tr>\n",
       "    <tr>\n",
       "      <th>658</th>\n",
       "      <td>tufB</td>\n",
       "      <td>translation elongation factor Tu 2</td>\n",
       "      <td>124091</td>\n",
       "      <td>9085</td>\n",
       "      <td>-3.771768</td>\n",
       "      <td>-115006</td>\n",
       "    </tr>\n",
       "    <tr>\n",
       "      <th>1245</th>\n",
       "      <td>tufA</td>\n",
       "      <td>translation elongation factor Tu 1</td>\n",
       "      <td>160805</td>\n",
       "      <td>46439</td>\n",
       "      <td>-1.791903</td>\n",
       "      <td>-114366</td>\n",
       "    </tr>\n",
       "    <tr>\n",
       "      <th>2098</th>\n",
       "      <td>ptsI</td>\n",
       "      <td>PTS enzyme I</td>\n",
       "      <td>141378</td>\n",
       "      <td>27201</td>\n",
       "      <td>-2.377826</td>\n",
       "      <td>-114177</td>\n",
       "    </tr>\n",
       "    <tr>\n",
       "      <th>1624</th>\n",
       "      <td>fbaA</td>\n",
       "      <td>fructose-bisphosphate aldolase class II</td>\n",
       "      <td>127930</td>\n",
       "      <td>16826</td>\n",
       "      <td>-2.926590</td>\n",
       "      <td>-111104</td>\n",
       "    </tr>\n",
       "    <tr>\n",
       "      <th>3841</th>\n",
       "      <td>ompT</td>\n",
       "      <td>DLP12 prophage; protease 7</td>\n",
       "      <td>109949</td>\n",
       "      <td>15187</td>\n",
       "      <td>-2.855926</td>\n",
       "      <td>-94762</td>\n",
       "    </tr>\n",
       "    <tr>\n",
       "      <th>3207</th>\n",
       "      <td>oppA</td>\n",
       "      <td>oligopeptide ABC transporter periplasmic bindi...</td>\n",
       "      <td>137677</td>\n",
       "      <td>44347</td>\n",
       "      <td>-1.634379</td>\n",
       "      <td>-93330</td>\n",
       "    </tr>\n",
       "    <tr>\n",
       "      <th>2670</th>\n",
       "      <td>dmlA</td>\n",
       "      <td>D-malate/3-isopropylmalate dehydrogenase (deca...</td>\n",
       "      <td>87244</td>\n",
       "      <td>1543</td>\n",
       "      <td>-5.821246</td>\n",
       "      <td>-85701</td>\n",
       "    </tr>\n",
       "    <tr>\n",
       "      <th>650</th>\n",
       "      <td>rpoC</td>\n",
       "      <td>RNA polymerase subunit &amp;beta;'</td>\n",
       "      <td>116263</td>\n",
       "      <td>31573</td>\n",
       "      <td>-1.880629</td>\n",
       "      <td>-84690</td>\n",
       "    </tr>\n",
       "  </tbody>\n",
       "</table>\n",
       "</div>"
      ],
      "text/plain": [
       "     Gene Name  ... counts_change\n",
       "1446      rnpB  ...       -674337\n",
       "1900      ssrA  ...       -606297\n",
       "261       csrB  ...       -362810\n",
       "2287      ompC  ...       -317067\n",
       "2691      gapA  ...       -272994\n",
       "3209      adhE  ...       -200926\n",
       "2970      gadB  ...       -194477\n",
       "1244      fusA  ...       -183681\n",
       "3475      ompA  ...       -161045\n",
       "2971      gadC  ...       -144957\n",
       "789       metE  ...       -142881\n",
       "407       pyrB  ...       -139210\n",
       "658       tufB  ...       -115006\n",
       "1245      tufA  ...       -114366\n",
       "2098      ptsI  ...       -114177\n",
       "1624      fbaA  ...       -111104\n",
       "3841      ompT  ...        -94762\n",
       "3207      oppA  ...        -93330\n",
       "2670      dmlA  ...        -85701\n",
       "650       rpoC  ...        -84690\n",
       "\n",
       "[20 rows x 6 columns]"
      ]
     },
     "execution_count": 15,
     "metadata": {
      "tags": []
     },
     "output_type": "execute_result"
    }
   ],
   "source": [
    "df_rna[['Gene Name','Product','SynH_Exp_BXHU','SynH_Stat1_CUOC',\n",
    "       'log2change','counts_change']].sort_values(by='counts_change',ascending=True).head(20)"
   ]
  },
  {
   "cell_type": "markdown",
   "metadata": {
    "id": "B8f8_QkvnPYI"
   },
   "source": [
    "When we look at the genes that have the greatest absolute decreases in gene counts we find that many of them are  involved with the central dogma:\n",
    "\n",
    "**rpnB** - processes tRNA which are required for translation\n",
    "\n",
    "**ssrA** - fixes stalled ribosomes which occurs often in fast growing cells and is lethal if not resolved\n",
    "\n",
    "**tufB, tufA, fusA, rpsA** - ribosomal proteins that are critical to either ribosome formation or translation\n",
    "\n",
    "**rpoC** - The major structural subunit of RNA polymerase\n",
    "\n",
    "As we mentioned in the introduction the downregulation of these genes reflect the cells survival strategy to stop optimizing for growth to transition to a more sparse environment.\n",
    "\n",
    "**Question 7:** Based on what we have observed amongst the genes that are up and downregulated in these conditions do you notice any trends for the types of genes that are highly differentially regulated during the transition to stationary phase when we sort by log2change but do not necessarily have large absolute changes? Conversely what kind of genes tended to show large absolute changes in gene counts, but did not necessarily have dramatic log2changes?\n",
    "\n",
    "----------------\n"
   ]
  },
  {
   "cell_type": "markdown",
   "metadata": {
    "id": "DQ8tMRAonPVl"
   },
   "source": [
    "Now that we have learned a little about the biological function of the genes that are more or less expressed in either condition, lets explore the data in a more systematic fashion.\n",
    "\n"
   ]
  },
  {
   "cell_type": "markdown",
   "metadata": {
    "id": "5Xni8jZutA9z"
   },
   "source": [
    "## **Detecting upregulated and downregulated genes**"
   ]
  },
  {
   "cell_type": "markdown",
   "metadata": {
    "id": "JhzmTpILHOPa"
   },
   "source": [
    "Below, we will render a visulization of the RNA counts at Stationary vs Exponential Growth phase.  The slider will apply a threshold $n$ where a gene is considered up or down regulated if they are $2^n$-fold more or less expressed in one growth phase versus the other.  \n",
    "\n",
    "Equivalently if:\n",
    "$$\\left|log2\\left(\\frac{\\textrm{Counts}_{stationary}}{\\textrm{Counts}_{exponential}}\\right)\\right| > n$$\n",
    "then the gene is considered up or down regulated depending on the sign of the log ratio."
   ]
  },
  {
   "cell_type": "code",
   "execution_count": null,
   "metadata": {
    "id": "jdL19JTcFX61"
   },
   "outputs": [],
   "source": [
    "log_slide = pd.read_csv(\"https://raw.githubusercontent.com/shih-lab/BIS198/main/datasets/log2_slider.csv\")\n",
    "hv.extension('bokeh')\n",
    "hv.output(widget_location='bottom')\n",
    "\n",
    "my_count = hv.Bars(\n",
    "    data=log_slide,\n",
    "    kdims=['Threshold of 2^n where n is', 'binned']\n",
    ").aggregate(\n",
    "    function=len\n",
    ").groupby(\n",
    "    \"Threshold of 2^n where n is\"\n",
    ").opts(\n",
    "    xlabel=\"\",\n",
    "    ylabel=\"Counts\",\n",
    "    width=300,\n",
    "    height=300\n",
    ")\n",
    "\n",
    "my_fig = hv.Points(\n",
    "    data=log_slide,\n",
    "    kdims=['SynH_Exp_BXHU', 'SynH_Stat1_CUOC'],\n",
    "    vdims=['binned', 'Threshold of 2^n where n is', \"Gene Name\", \"log2change\"]\n",
    ").groupby(\n",
    "    ['Threshold of 2^n where n is', 'binned']\n",
    ").opts(\n",
    "    tools=['hover'],\n",
    "    logx=True,\n",
    "    logy=True,\n",
    "    alpha=0.3,\n",
    "    xlabel=\"Exponential Growth Gene Counts\",\n",
    "    ylabel=\"Stationary Growth Gene Counts\"\n",
    ").overlay(\n",
    "    ['binned']\n",
    ")\n",
    "my_fig.get_dimension('binned').label='Stationary vs Exponential'\n",
    "my_count.opts(title=\"# of Genes\") + my_fig.opts(width=700, height=500, title=\"RNA Counts\")"
   ]
  },
  {
   "cell_type": "markdown",
   "metadata": {
    "id": "IIGmxj3rnPLg"
   },
   "source": [
    "**Question 8:** Why would a researcher be interested in examining genes that are up or downregulated at different thresholds?\n",
    "\n",
    "**Question 9:** As the arbitrary threshold n is changed what trends do you notice in terms of the number of genes that we consider differently expressed? \n",
    "\n",
    "**Question 10:** As we transition to stationary phase do we tend to see more genes up or downregulated when we measure the difference by log2change at higher thresholds? Why might this be?\n",
    "\n",
    "-----------------"
   ]
  },
  {
   "cell_type": "markdown",
   "metadata": {
    "id": "2lF2VJZCH0LG"
   },
   "source": [
    "Next, we will apply a threshold $n$ where a gene is considered up or down regulated if they have $n$ more or less counts in one growth phase versus the other.\n",
    "\n",
    "In this case if:\n",
    "$$\\left|\\textrm{Counts}_{stationary} - \\textrm{Counts}_{exponential}\\right| > n$$\n",
    "then the gene is considered up or down regulated depending on the sign of the difference in counts."
   ]
  },
  {
   "cell_type": "code",
   "execution_count": null,
   "metadata": {
    "id": "UfK3OrRbnPAT"
   },
   "outputs": [],
   "source": [
    "count_slide = pd.read_csv(\"https://raw.githubusercontent.com/shih-lab/BIS198/main/datasets/count_slider.csv\")\n",
    "hv.extension('bokeh')\n",
    "hv.output(widget_location='bottom')\n",
    "\n",
    "my_count = hv.Bars(\n",
    "    data=count_slide,\n",
    "    kdims=['Threshold where |count difference| is', 'binned']\n",
    ").aggregate(\n",
    "    function=len\n",
    ").groupby(\n",
    "    \"Threshold where |count difference| is\"\n",
    ").opts(\n",
    "    xlabel=\"\",\n",
    "    ylabel=\"Counts\",\n",
    "    width=300,\n",
    "    height=300\n",
    ")\n",
    "my_fig = hv.Points(\n",
    "    data=count_slide,\n",
    "    kdims=['SynH_Exp_BXHU', 'SynH_Stat1_CUOC'],\n",
    "    vdims=['binned', 'Threshold where |count difference| is', \"Gene Name\", \"log2change\"]\n",
    ").groupby(\n",
    "    ['Threshold where |count difference| is', 'binned']\n",
    ").opts(\n",
    "    tools=['hover'],\n",
    "    logx=True,\n",
    "    logy=True,\n",
    "    alpha=0.3,\n",
    "    xlabel=\"Exponential Growth Gene Counts\",\n",
    "    ylabel=\"Stationary Growth Gene Counts\"\n",
    ").overlay(\n",
    "    ['binned']\n",
    ")\n",
    "my_fig.get_dimension('binned').label='Stationary vs Exponential'\n",
    "my_count.opts(title=\"# of Genes\") + my_fig.opts(width=700, height=500, title=\"RNA Counts\")"
   ]
  },
  {
   "cell_type": "markdown",
   "metadata": {
    "id": "XyHyEzmMnkcR"
   },
   "source": [
    "**Question 11:** As we transition to stationary phase do we tend to see more genes up or downregulated when we measure the difference by counts_change at higher thresholds? Why might this be?\n",
    "\n",
    "**Question 12:** Depending on how we define our cutoffs (by measuring counts vs. log2change) what biases may we introduce into our analysis? Specifically, what types of genes may appear based on one set of thresholds or criteria, but not another?\n",
    "\n",
    "-------------------"
   ]
  },
  {
   "cell_type": "markdown",
   "metadata": {
    "id": "MnVJydUPECq9"
   },
   "source": [
    "## **Part 2: Getting Motifs from Expression Data**\n",
    "\n",
    "Transition. Why did we bother doing conditional gene expression. What is a consensus sequence."
   ]
  },
  {
   "cell_type": "markdown",
   "metadata": {
    "id": "HSAhtGitnlIS"
   },
   "source": [
    "**Let's further analyze the genes which are downregulated in stationary growth**\n",
    "\n",
    "We can use the `log2change` column of our dataframe `df_rna` to select for genes that were downregulated in stationary phase.\n",
    "\n",
    "\n",
    "$$\\frac{\\textrm{counts}_{stat}\\textrm{ for gene X}}{\\textrm{counts}_{exp}\\textrm{ for gene X}} = 2^n$$\n",
    "Then\n",
    "$$\\log_2\\left(\\frac{\\textrm{counts}_{stat}\\textrm{ for gene X}}{\\textrm{counts}_{exp}\\textrm{ for gene X}}\\right) = n$$\n",
    "\n",
    "For downregulated genes in stationary phase, $n$ is negative and depending on our thresholding, these genes are expressed $2^n$-fold less in stationary growth when compared to exponential growth"
   ]
  },
  {
   "cell_type": "code",
   "execution_count": null,
   "metadata": {
    "colab": {
     "base_uri": "https://localhost:8080/"
    },
    "id": "l9eV-P7D0b35",
    "outputId": "97e5d853-3352-4729-9c4c-f34a4eadd72c"
   },
   "outputs": [
    {
     "data": {
      "text/plain": [
       "0       False\n",
       "1       False\n",
       "2       False\n",
       "3       False\n",
       "4       False\n",
       "        ...  \n",
       "4366    False\n",
       "4367    False\n",
       "4368    False\n",
       "4369    False\n",
       "4370    False\n",
       "Name: log2change, Length: 4371, dtype: bool"
      ]
     },
     "execution_count": 18,
     "metadata": {
      "tags": []
     },
     "output_type": "execute_result"
    }
   ],
   "source": [
    "#We can create a boolean query of the log2change column to find all genes which have a value of -5\n",
    "df_rna.log2change < -5"
   ]
  },
  {
   "cell_type": "code",
   "execution_count": null,
   "metadata": {
    "colab": {
     "base_uri": "https://localhost:8080/",
     "height": 390
    },
    "id": "fRSxRBSank_a",
    "outputId": "a1ef4525-8f71-41be-da2d-c7b60c8923df"
   },
   "outputs": [
    {
     "data": {
      "text/html": [
       "<div>\n",
       "<style scoped>\n",
       "    .dataframe tbody tr th:only-of-type {\n",
       "        vertical-align: middle;\n",
       "    }\n",
       "\n",
       "    .dataframe tbody tr th {\n",
       "        vertical-align: top;\n",
       "    }\n",
       "\n",
       "    .dataframe thead th {\n",
       "        text-align: right;\n",
       "    }\n",
       "</style>\n",
       "<table border=\"1\" class=\"dataframe\">\n",
       "  <thead>\n",
       "    <tr style=\"text-align: right;\">\n",
       "      <th></th>\n",
       "      <th>Gene Name</th>\n",
       "      <th>ID</th>\n",
       "      <th>Product</th>\n",
       "      <th>SynH_Exp_BXHU</th>\n",
       "      <th>SynH_Stat1_CUOC</th>\n",
       "      <th>ratio</th>\n",
       "      <th>log2change</th>\n",
       "      <th>counts_change</th>\n",
       "    </tr>\n",
       "  </thead>\n",
       "  <tbody>\n",
       "    <tr>\n",
       "      <th>407</th>\n",
       "      <td>pyrB</td>\n",
       "      <td>b4245</td>\n",
       "      <td>aspartate carbamoyltransferase catalytic subunit</td>\n",
       "      <td>140918</td>\n",
       "      <td>1708</td>\n",
       "      <td>0.012121</td>\n",
       "      <td>-6.366404</td>\n",
       "      <td>-139210</td>\n",
       "    </tr>\n",
       "    <tr>\n",
       "      <th>408</th>\n",
       "      <td>pyrI</td>\n",
       "      <td>b4244</td>\n",
       "      <td>aspartate carbamoyltransferase, PyrI subunit</td>\n",
       "      <td>71072</td>\n",
       "      <td>608</td>\n",
       "      <td>0.008555</td>\n",
       "      <td>-6.869066</td>\n",
       "      <td>-70464</td>\n",
       "    </tr>\n",
       "    <tr>\n",
       "      <th>409</th>\n",
       "      <td>ridA</td>\n",
       "      <td>b4243</td>\n",
       "      <td>enamine/imine deaminase, redox-regulated chape...</td>\n",
       "      <td>34381</td>\n",
       "      <td>897</td>\n",
       "      <td>0.026090</td>\n",
       "      <td>-5.260360</td>\n",
       "      <td>-33484</td>\n",
       "    </tr>\n",
       "    <tr>\n",
       "      <th>1075</th>\n",
       "      <td>gadA</td>\n",
       "      <td>b3517</td>\n",
       "      <td>glutamate decarboxylase A</td>\n",
       "      <td>84374</td>\n",
       "      <td>2314</td>\n",
       "      <td>0.027426</td>\n",
       "      <td>-5.188338</td>\n",
       "      <td>-82060</td>\n",
       "    </tr>\n",
       "    <tr>\n",
       "      <th>1080</th>\n",
       "      <td>gadE</td>\n",
       "      <td>b3512</td>\n",
       "      <td>DNA-binding transcriptional activator GadE</td>\n",
       "      <td>8655</td>\n",
       "      <td>52</td>\n",
       "      <td>0.006008</td>\n",
       "      <td>-7.378878</td>\n",
       "      <td>-8603</td>\n",
       "    </tr>\n",
       "    <tr>\n",
       "      <th>1082</th>\n",
       "      <td>hdeA</td>\n",
       "      <td>b3510</td>\n",
       "      <td>periplasmic acid stress chaperone HdeA</td>\n",
       "      <td>47430</td>\n",
       "      <td>300</td>\n",
       "      <td>0.006325</td>\n",
       "      <td>-7.304694</td>\n",
       "      <td>-47130</td>\n",
       "    </tr>\n",
       "    <tr>\n",
       "      <th>1083</th>\n",
       "      <td>hdeB</td>\n",
       "      <td>b3509</td>\n",
       "      <td>periplasmic acid stress chaperone HdeB</td>\n",
       "      <td>21226</td>\n",
       "      <td>176</td>\n",
       "      <td>0.008292</td>\n",
       "      <td>-6.914113</td>\n",
       "      <td>-21050</td>\n",
       "    </tr>\n",
       "    <tr>\n",
       "      <th>1086</th>\n",
       "      <td>slp</td>\n",
       "      <td>b3506</td>\n",
       "      <td>starvation lipoprotein</td>\n",
       "      <td>18758</td>\n",
       "      <td>480</td>\n",
       "      <td>0.025589</td>\n",
       "      <td>-5.288328</td>\n",
       "      <td>-18278</td>\n",
       "    </tr>\n",
       "    <tr>\n",
       "      <th>2670</th>\n",
       "      <td>dmlA</td>\n",
       "      <td>b1800</td>\n",
       "      <td>D-malate/3-isopropylmalate dehydrogenase (deca...</td>\n",
       "      <td>87244</td>\n",
       "      <td>1543</td>\n",
       "      <td>0.017686</td>\n",
       "      <td>-5.821246</td>\n",
       "      <td>-85701</td>\n",
       "    </tr>\n",
       "    <tr>\n",
       "      <th>2970</th>\n",
       "      <td>gadB</td>\n",
       "      <td>b1493</td>\n",
       "      <td>glutamate decarboxylase B</td>\n",
       "      <td>196014</td>\n",
       "      <td>1537</td>\n",
       "      <td>0.007841</td>\n",
       "      <td>-6.994696</td>\n",
       "      <td>-194477</td>\n",
       "    </tr>\n",
       "    <tr>\n",
       "      <th>2971</th>\n",
       "      <td>gadC</td>\n",
       "      <td>b1492</td>\n",
       "      <td>L-glutamate:4-aminobutyrate antiporter</td>\n",
       "      <td>146286</td>\n",
       "      <td>1329</td>\n",
       "      <td>0.009085</td>\n",
       "      <td>-6.782307</td>\n",
       "      <td>-144957</td>\n",
       "    </tr>\n",
       "  </tbody>\n",
       "</table>\n",
       "</div>"
      ],
      "text/plain": [
       "     Gene Name     ID  ... log2change  counts_change\n",
       "407       pyrB  b4245  ...  -6.366404        -139210\n",
       "408       pyrI  b4244  ...  -6.869066         -70464\n",
       "409       ridA  b4243  ...  -5.260360         -33484\n",
       "1075      gadA  b3517  ...  -5.188338         -82060\n",
       "1080      gadE  b3512  ...  -7.378878          -8603\n",
       "1082      hdeA  b3510  ...  -7.304694         -47130\n",
       "1083      hdeB  b3509  ...  -6.914113         -21050\n",
       "1086       slp  b3506  ...  -5.288328         -18278\n",
       "2670      dmlA  b1800  ...  -5.821246         -85701\n",
       "2970      gadB  b1493  ...  -6.994696        -194477\n",
       "2971      gadC  b1492  ...  -6.782307        -144957\n",
       "\n",
       "[11 rows x 8 columns]"
      ]
     },
     "execution_count": 19,
     "metadata": {
      "tags": []
     },
     "output_type": "execute_result"
    }
   ],
   "source": [
    "# We can then apply this boolean dataframe to the rna-seq dataframe to get the list of genes which have a log2 fold change of -5 or smaller\n",
    "df_rna[df_rna.log2change < -5]"
   ]
  },
  {
   "cell_type": "markdown",
   "metadata": {
    "id": "MM5TWHErNdyz"
   },
   "source": [
    "We pull out the 11 genes which correspond to the 11 blue dots in the log-threshold slider figure above.\n",
    "\n",
    "**Question 13:** How much more or less are these 11 genes expressed in stationary phase versus exponential phase?\n"
   ]
  },
  {
   "cell_type": "markdown",
   "metadata": {
    "id": "cyHci5auNhiJ"
   },
   "source": [
    "-----------\n",
    "Focusing on the 11 downregulated genes in stationary phase, we can try to see if we can extract any additional information at the DNA-sequence level.  We know that these genes all have a corresponding promoter sequence which acts to regulate the gene expression.  We will explore how we can find patterns in these promoter sequences."
   ]
  },
  {
   "cell_type": "code",
   "execution_count": null,
   "metadata": {
    "colab": {
     "base_uri": "https://localhost:8080/"
    },
    "id": "7LeB1IgkNjtH",
    "outputId": "37e3673c-9b94-481d-f9ac-114c26378092"
   },
   "outputs": [
    {
     "data": {
      "text/plain": [
       "['pyrB',\n",
       " 'pyrI',\n",
       " 'ridA',\n",
       " 'gadA',\n",
       " 'gadE',\n",
       " 'hdeA',\n",
       " 'hdeB',\n",
       " 'slp',\n",
       " 'dmlA',\n",
       " 'gadB',\n",
       " 'gadC']"
      ]
     },
     "execution_count": 20,
     "metadata": {
      "tags": []
     },
     "output_type": "execute_result"
    }
   ],
   "source": [
    "# Lets make a list of the names of some downregulated genes in stationary phase\n",
    "my_eleven_genes = df_rna[df_rna.log2change < -5][\"Gene Name\"].to_list()\n",
    "my_eleven_genes"
   ]
  },
  {
   "cell_type": "code",
   "execution_count": null,
   "metadata": {
    "id": "6uY1FQwsNm89"
   },
   "outputs": [],
   "source": [
    "# import promoter database into dataframe\n",
    "promoters = pd.read_csv(\"https://raw.githubusercontent.com/shih-lab/BIS198/main/datasets/ecocyc_promoter_sequences.csv\")\n",
    "\n",
    "# Make some functions to lookup promoter sequences and generate logos\n",
    "def promoter_lookup(gene_list, df_prom):\n",
    "    seq_list = []\n",
    "    prom_list =[]\n",
    "    for gene in gene_list:\n",
    "        seq_list = np.append(seq_list, df_prom.query('@gene in downstream_genes')[[\"upper_seq\"]].dropna().values)\n",
    "        seq_list = np.append(seq_list, df_prom[df_prom.promoter.str.contains(gene)].upper_seq.values)\n",
    "    return np.unique(seq_list)\n",
    "\n",
    "def generate_logo(seq_list):\n",
    "    counts_mat = lm.alignment_to_matrix(seq_list)\n",
    "    info_mat = lm.transform_matrix(counts_mat, from_type='counts', to_type='information')\n",
    "    graph = lm.Logo(info_mat)\n",
    "    graph.ax.set_xticks(range(0,len(info_mat),5))\n",
    "    graph.ax.set_xticklabels('%+d'%x for x in range(-60,25,5))\n",
    "    return graph"
   ]
  },
  {
   "cell_type": "markdown",
   "metadata": {
    "id": "LwDQ6RxSNpBl"
   },
   "source": [
    "We can try to map these genes to their promoter sequence by querying a database which contains all *E.coli* promoter sequences for all genes. In general bacterial promoters tend to occur ~50-200 base pairs upstream of a gene's start codon.\n",
    "\n",
    "\n",
    "<img src=\"https://raw.githubusercontent.com/shih-lab/BIS198/main/assets/img/lab2/consensus_illustration.png\" height=250>\n",
    "\n",
    "\n",
    "**Figure 3:** Make it clear to kids what is important in the figure\n",
    "\n",
    "We have made a `promoter_lookup()` function which does just that.  For the 11 genes, the `promoter_lookup()` function found 13 promoter sequences.\n",
    "This is because there are 3 putative promoter sequences for gadC instead of 1 which leads to 13 sequences instead of 11 for the whole list.\n",
    "We will ignore this for this lab but this does mean that gadC promoters are slightly overrepresented for the following exercises."
   ]
  },
  {
   "cell_type": "code",
   "execution_count": null,
   "metadata": {
    "colab": {
     "base_uri": "https://localhost:8080/"
    },
    "id": "6793tvFnNrqO",
    "outputId": "5da563a3-fa14-4e20-924e-4f31776a6c78"
   },
   "outputs": [
    {
     "data": {
      "text/plain": [
       "array(['AATGTGGTGCTGGCCAATTAATTGCGGTTGGTAATAAAAGTCTGGCTCCCTATAATGAGCCAGACTTTTTACCGCTGTAATAAAG',\n",
       "       'ATATTGAACAACGATTCGGACAAGGATGTAAATAATGAAAAGGATGACATATTCGAAACGATAACGGCTAAGGAGCAAGTTATGA',\n",
       "       'CCAATTGCCAGCTTAAGTCGAAACAAGGAGACTCGATATTTAAATCGGATTACATTTTAACTTTAGTAATATTCTTCAGAGATCA',\n",
       "       'TAACGGTAACGGTGTCCCGAAACGAACCCGTTTCGGGACAATTTCCAAAGTCTGTTCACTGGCATTAGCAACGGAAAATATTGTT',\n",
       "       'TAACGTTTAACGGTAACGGTGTCCCGAAACGAACCCGTTTCGGGACAATTTCCAAAGTCTGTTCACTGGCATTAGCAACGGAAAA',\n",
       "       'TATCAGGCATATCACCTCAGAATCAGATGAAAACTATAAAGAAATATCTATTATGGTTTTAATATTTGTTGATAAGGATAGTAAC',\n",
       "       'TATTTAAACACGAGTCCTTTGCACTTGCTTACTTTATCGATAAATCCTACTTTTTTAATGCGATCCAATCATTTTAAGGAGTTTA',\n",
       "       'TATTTAAATTAAGCCTGTAATGCCTTGCTTCCATTGCGGATAAATCCTACTTTTTTATTGCCTTCAAATAAATTTAAGGAGTTCG',\n",
       "       'TCTGATTTTGATATTTTCCATCAACATGACATATACAGAAAACCAGGTTATAACCTCAGTGTCGAAATTGATTCGTGACGGCTCT',\n",
       "       'TCTGTTCACTGGCATTAGCAACGGAAAATATTGTTCTGAATACGCTTCAGAACAAAACAGGTGCGGTTCCGACAGGAATACCGTT',\n",
       "       'TGTAACAACACCACGTTTAGCGTTTGCTCCAGCAAGGCGATGCGCTTGCTGACGAACGCCGGTGAAACGCCCAGTTCTTCCGCCA',\n",
       "       'TTAGCCATTTCAAACATTATCATGGCTGATATTTTCCGTAGTCAGGTTTAATGTTTTAAAAGTGCTGTGGGAAAGTGAACAAAGA',\n",
       "       'TTAGGATCAATATATGGAGTGCGTGATGGATAAATCTGAAGTATTGATTAGTGTTAATAGACGTATTAGTTCACGAAGGGTAAAG'],\n",
       "      dtype=object)"
      ]
     },
     "execution_count": 22,
     "metadata": {
      "tags": []
     },
     "output_type": "execute_result"
    }
   ],
   "source": [
    "# Outputs an array of promoter sequences from -60 to +25 for each gene relative to the transcriptional start site\n",
    "seq_list = promoter_lookup(my_eleven_genes, promoters)\n",
    "seq_list"
   ]
  },
  {
   "cell_type": "markdown",
   "metadata": {
    "id": "IzScJUeeNuUr"
   },
   "source": [
    "In order to visualize patterns in the DNA-sequences of the genes we enriched, we will be using the python package [`logomaker`](https://github.com/jbkinney/logomaker) by Ammar Tareen and Justin B. Kinney.  We will generate various logos and tie them back to biological consequences.\n",
    "\n",
    "To start we will generate a counts matrix of the 13 DNA-sequences we just pulled out of the `df_rna` which are downregulated in stationary phase."
   ]
  },
  {
   "cell_type": "code",
   "execution_count": null,
   "metadata": {
    "colab": {
     "base_uri": "https://localhost:8080/",
     "height": 402
    },
    "id": "T-AD4vNGNxNy",
    "outputId": "57400c0c-092c-401f-9448-25351f707f21"
   },
   "outputs": [
    {
     "data": {
      "text/html": [
       "<div>\n",
       "<style scoped>\n",
       "    .dataframe tbody tr th:only-of-type {\n",
       "        vertical-align: middle;\n",
       "    }\n",
       "\n",
       "    .dataframe tbody tr th {\n",
       "        vertical-align: top;\n",
       "    }\n",
       "\n",
       "    .dataframe thead th {\n",
       "        text-align: right;\n",
       "    }\n",
       "</style>\n",
       "<table border=\"1\" class=\"dataframe\">\n",
       "  <thead>\n",
       "    <tr style=\"text-align: right;\">\n",
       "      <th></th>\n",
       "      <th>A</th>\n",
       "      <th>C</th>\n",
       "      <th>G</th>\n",
       "      <th>T</th>\n",
       "    </tr>\n",
       "    <tr>\n",
       "      <th>pos</th>\n",
       "      <th></th>\n",
       "      <th></th>\n",
       "      <th></th>\n",
       "      <th></th>\n",
       "    </tr>\n",
       "  </thead>\n",
       "  <tbody>\n",
       "    <tr>\n",
       "      <th>0</th>\n",
       "      <td>2.0</td>\n",
       "      <td>1.0</td>\n",
       "      <td>0.0</td>\n",
       "      <td>10.0</td>\n",
       "    </tr>\n",
       "    <tr>\n",
       "      <th>1</th>\n",
       "      <td>6.0</td>\n",
       "      <td>3.0</td>\n",
       "      <td>1.0</td>\n",
       "      <td>3.0</td>\n",
       "    </tr>\n",
       "    <tr>\n",
       "      <th>2</th>\n",
       "      <td>6.0</td>\n",
       "      <td>0.0</td>\n",
       "      <td>0.0</td>\n",
       "      <td>7.0</td>\n",
       "    </tr>\n",
       "    <tr>\n",
       "      <th>3</th>\n",
       "      <td>2.0</td>\n",
       "      <td>3.0</td>\n",
       "      <td>5.0</td>\n",
       "      <td>3.0</td>\n",
       "    </tr>\n",
       "    <tr>\n",
       "      <th>4</th>\n",
       "      <td>3.0</td>\n",
       "      <td>1.0</td>\n",
       "      <td>3.0</td>\n",
       "      <td>6.0</td>\n",
       "    </tr>\n",
       "  </tbody>\n",
       "</table>\n",
       "</div>"
      ],
      "text/plain": [
       "       A    C    G     T\n",
       "pos                     \n",
       "0    2.0  1.0  0.0  10.0\n",
       "1    6.0  3.0  1.0   3.0\n",
       "2    6.0  0.0  0.0   7.0\n",
       "3    2.0  3.0  5.0   3.0\n",
       "4    3.0  1.0  3.0   6.0"
      ]
     },
     "execution_count": 23,
     "metadata": {
      "tags": []
     },
     "output_type": "execute_result"
    },
    {
     "data": {
      "image/png": "[encoded data removed]",
      "text/plain": [
       "<Figure size 720x180 with 1 Axes>"
      ]
     },
     "metadata": {
      "needs_background": "light",
      "tags": []
     },
     "output_type": "display_data"
    }
   ],
   "source": [
    "counts_mat = lm.alignment_to_matrix(seq_list)\n",
    "counts_mat.head(5)\n",
    "\n",
    "graph = lm.Logo(counts_mat)\n",
    "_ = graph.ax.set_xticks(range(0,len(counts_mat),5))\n",
    "_ = graph.ax.set_xticklabels('%+d'%x for x in range(-60,25,5))"
   ]
  },
  {
   "cell_type": "markdown",
   "metadata": {
    "id": "867WyAvvN1CP"
   },
   "source": [
    "Counts logos are assigned character heights corresponding to these $n_{ic}$ values. Where $i$ corresponds to position and $c$ to nucleotide. The y axis of such logos extends from 0 to\n",
    "$N$, where $N$ is the number of sequences in the alignment.\n",
    "\n",
    "**Question 14:** \n",
    "How many promoters contribute to this count logo?\n",
    "\n",
    "What is $n$ at $i = 3$ and $c = G$ in the count matrix above? \n",
    "\n",
    "What is $n$ at $i = 2$ and $c = G$ in the count matrix above?"
   ]
  },
  {
   "cell_type": "code",
   "execution_count": null,
   "metadata": {
    "colab": {
     "base_uri": "https://localhost:8080/",
     "height": 406
    },
    "id": "DJGzGyJvN_SM",
    "outputId": "8b6ea21e-0b73-4d95-885b-4fe7cf1748f0"
   },
   "outputs": [
    {
     "data": {
      "text/html": [
       "<div>\n",
       "<style scoped>\n",
       "    .dataframe tbody tr th:only-of-type {\n",
       "        vertical-align: middle;\n",
       "    }\n",
       "\n",
       "    .dataframe tbody tr th {\n",
       "        vertical-align: top;\n",
       "    }\n",
       "\n",
       "    .dataframe thead th {\n",
       "        text-align: right;\n",
       "    }\n",
       "</style>\n",
       "<table border=\"1\" class=\"dataframe\">\n",
       "  <thead>\n",
       "    <tr style=\"text-align: right;\">\n",
       "      <th></th>\n",
       "      <th>A</th>\n",
       "      <th>C</th>\n",
       "      <th>G</th>\n",
       "      <th>T</th>\n",
       "    </tr>\n",
       "    <tr>\n",
       "      <th>pos</th>\n",
       "      <th></th>\n",
       "      <th></th>\n",
       "      <th></th>\n",
       "      <th></th>\n",
       "    </tr>\n",
       "  </thead>\n",
       "  <tbody>\n",
       "    <tr>\n",
       "      <th>0</th>\n",
       "      <td>0.153846</td>\n",
       "      <td>0.076923</td>\n",
       "      <td>0.000000</td>\n",
       "      <td>0.769231</td>\n",
       "    </tr>\n",
       "    <tr>\n",
       "      <th>1</th>\n",
       "      <td>0.461538</td>\n",
       "      <td>0.230769</td>\n",
       "      <td>0.076923</td>\n",
       "      <td>0.230769</td>\n",
       "    </tr>\n",
       "    <tr>\n",
       "      <th>2</th>\n",
       "      <td>0.461538</td>\n",
       "      <td>0.000000</td>\n",
       "      <td>0.000000</td>\n",
       "      <td>0.538462</td>\n",
       "    </tr>\n",
       "    <tr>\n",
       "      <th>3</th>\n",
       "      <td>0.153846</td>\n",
       "      <td>0.230769</td>\n",
       "      <td>0.384615</td>\n",
       "      <td>0.230769</td>\n",
       "    </tr>\n",
       "    <tr>\n",
       "      <th>4</th>\n",
       "      <td>0.230769</td>\n",
       "      <td>0.076923</td>\n",
       "      <td>0.230769</td>\n",
       "      <td>0.461538</td>\n",
       "    </tr>\n",
       "  </tbody>\n",
       "</table>\n",
       "</div>"
      ],
      "text/plain": [
       "            A         C         G         T\n",
       "pos                                        \n",
       "0    0.153846  0.076923  0.000000  0.769231\n",
       "1    0.461538  0.230769  0.076923  0.230769\n",
       "2    0.461538  0.000000  0.000000  0.538462\n",
       "3    0.153846  0.230769  0.384615  0.230769\n",
       "4    0.230769  0.076923  0.230769  0.461538"
      ]
     },
     "execution_count": 24,
     "metadata": {
      "tags": []
     },
     "output_type": "execute_result"
    },
    {
     "data": {
      "image/png": "[encoded data removed]",
      "text/plain": [
       "<Figure size 720x180 with 1 Axes>"
      ]
     },
     "metadata": {
      "needs_background": "light",
      "tags": []
     },
     "output_type": "display_data"
    }
   ],
   "source": [
    "prob_mat = lm.transform_matrix(counts_mat, from_type='counts', to_type='probability', pseudocount=0)\n",
    "prob_mat.head(5)\n",
    "\n",
    "graph = lm.Logo(prob_mat)\n",
    "_ = graph.ax.set_xticks(range(0,len(prob_mat),5))\n",
    "_ = graph.ax.set_xticklabels('%+d'%x for x in range(-60,25,5))"
   ]
  },
  {
   "cell_type": "markdown",
   "metadata": {
    "id": "8KbsDz7oODfo"
   },
   "source": [
    "The probability matrix has entries $p_{ic}$ for the probability of a nucleotide $c$ at position $i$\n",
    "\n",
    "Looking at a singular case, the probability of $T$ appearing at position $0$ is $$\\frac{\\textrm{frequency of T}}{\\textrm{number of total sequences}} = \\frac{10}{13} \\approx 0.77$$\n",
    "\n",
    "**Question 15:** What is the probability of $T$ at position two? \n",
    "\n",
    "How many promoters have $T$ at position two?\n",
    "\n",
    "**Question 16:** If 100 more promoters are added to this dataset, none of which have a $T$ at position 2, what would the new probabilty for $T$ be at position 2?\n",
    "\n",
    "---------"
   ]
  },
  {
   "cell_type": "markdown",
   "metadata": {
    "id": "K3SgeEN0OJ6y"
   },
   "source": [
    "Information logos are great for extracting sequence motifs from the promter sequences.  First we generate an information matrix.\n",
    "\n",
    "The entries $I_{ic}$ in the corresponding information matrices\n",
    "are given by\n",
    "\n",
    "$I_{ic} = p_{ic} I_i,~~~I_i = \\sum_c p_{ic} \\log_2 \\frac{p_{ic}}{b_{ic}}$\n",
    "\n",
    "where $p_{ic}$ are the probabilities of nucleotide $c$ in position $i$\n",
    "\n",
    "The position-dependent (but not character dependent) quantity $I_i$ is called the \"information content\"\n",
    "of site $i$. \n",
    "\n",
    "$b_{ic}$ is the background probability of the nucleotide $c$ at position i and in our case is always $\\frac{1}{4}$ or $0.25$. Because *E. coli* has a genome GC-content of $50.8\\%$, we do not need to adjust the background probability.  However for some theromophilic microbes, GC content can be upwards of $70\\%$\n",
    "\n",
    "These information values $I_{ic}$  are nonnegative and are said to be in units of\n",
    "'bits' due to the use of $\\log_2$.  Another caveat of using $\\log$ is that we must add a \"pseudocount\" to all values in the count matrix or else we would be evalulating $\\log_2(0)$ which is $-\\infty$.  \n",
    "\n",
    "In other words, for the count matrix above, which has no $G$s at position zero, we would add one pseudocount to that value as well as all other values in the matrix and thus the count matrix row would transform from $[2 ,1 ,0 ,10]$ to $[3,2,1,11]$ before we convert the count matrix into an information matrix."
   ]
  },
  {
   "cell_type": "code",
   "execution_count": null,
   "metadata": {
    "colab": {
     "base_uri": "https://localhost:8080/",
     "height": 402
    },
    "id": "m-48xZY9OMwc",
    "outputId": "80f67d27-2671-4517-e843-f2638aa8a0ee"
   },
   "outputs": [
    {
     "data": {
      "text/html": [
       "<div>\n",
       "<style scoped>\n",
       "    .dataframe tbody tr th:only-of-type {\n",
       "        vertical-align: middle;\n",
       "    }\n",
       "\n",
       "    .dataframe tbody tr th {\n",
       "        vertical-align: top;\n",
       "    }\n",
       "\n",
       "    .dataframe thead th {\n",
       "        text-align: right;\n",
       "    }\n",
       "</style>\n",
       "<table border=\"1\" class=\"dataframe\">\n",
       "  <thead>\n",
       "    <tr style=\"text-align: right;\">\n",
       "      <th></th>\n",
       "      <th>A</th>\n",
       "      <th>C</th>\n",
       "      <th>G</th>\n",
       "      <th>T</th>\n",
       "    </tr>\n",
       "    <tr>\n",
       "      <th>pos</th>\n",
       "      <th></th>\n",
       "      <th></th>\n",
       "      <th></th>\n",
       "      <th></th>\n",
       "    </tr>\n",
       "  </thead>\n",
       "  <tbody>\n",
       "    <tr>\n",
       "      <th>0</th>\n",
       "      <td>0.096766</td>\n",
       "      <td>0.064510</td>\n",
       "      <td>0.032255</td>\n",
       "      <td>0.354808</td>\n",
       "    </tr>\n",
       "    <tr>\n",
       "      <th>1</th>\n",
       "      <td>0.052430</td>\n",
       "      <td>0.029960</td>\n",
       "      <td>0.014980</td>\n",
       "      <td>0.029960</td>\n",
       "    </tr>\n",
       "    <tr>\n",
       "      <th>2</th>\n",
       "      <td>0.197759</td>\n",
       "      <td>0.028251</td>\n",
       "      <td>0.028251</td>\n",
       "      <td>0.226010</td>\n",
       "    </tr>\n",
       "    <tr>\n",
       "      <th>3</th>\n",
       "      <td>0.008074</td>\n",
       "      <td>0.010765</td>\n",
       "      <td>0.016148</td>\n",
       "      <td>0.010765</td>\n",
       "    </tr>\n",
       "    <tr>\n",
       "      <th>4</th>\n",
       "      <td>0.029960</td>\n",
       "      <td>0.014980</td>\n",
       "      <td>0.029960</td>\n",
       "      <td>0.052430</td>\n",
       "    </tr>\n",
       "  </tbody>\n",
       "</table>\n",
       "</div>"
      ],
      "text/plain": [
       "            A         C         G         T\n",
       "pos                                        \n",
       "0    0.096766  0.064510  0.032255  0.354808\n",
       "1    0.052430  0.029960  0.014980  0.029960\n",
       "2    0.197759  0.028251  0.028251  0.226010\n",
       "3    0.008074  0.010765  0.016148  0.010765\n",
       "4    0.029960  0.014980  0.029960  0.052430"
      ]
     },
     "execution_count": 25,
     "metadata": {
      "tags": []
     },
     "output_type": "execute_result"
    },
    {
     "data": {
      "image/png": "[encoded data removed]",
      "text/plain": [
       "<Figure size 720x180 with 1 Axes>"
      ]
     },
     "metadata": {
      "needs_background": "light",
      "tags": []
     },
     "output_type": "display_data"
    }
   ],
   "source": [
    "info_mat = lm.transform_matrix(counts_mat, from_type='counts', to_type='information', pseudocount=1)\n",
    "info_mat.head(5)\n",
    "\n",
    "graph = lm.Logo(info_mat)\n",
    "_ = graph.ax.set_xticks(range(0,len(info_mat),5))\n",
    "_ = graph.ax.set_xticklabels('%+d'%x for x in range(-60,25,5))"
   ]
  },
  {
   "cell_type": "markdown",
   "metadata": {
    "id": "-t4wGmPjOO3w"
   },
   "source": [
    "**Question 17:** What is the information content for $T$ in position 0 vs 1?  Using the count matrix and the probability matrix above, why are the information values at positions 0 and 1 so different? (Hint: It may be easier to answer this question after running the next cell)\n",
    "\n",
    "\n",
    "------\n",
    "\n",
    "Now let's look at what happens if we generate logos from sequences as we change the fold-change threshold"
   ]
  },
  {
   "cell_type": "code",
   "execution_count": null,
   "metadata": {
    "colab": {
     "base_uri": "https://localhost:8080/",
     "height": 233,
     "referenced_widgets": [
      "118ec4ae26fe4caab3d9724968e1586c",
      "c7170bf0044a4129a73fb7a63dc4cfdd",
      "7ca3cf92137a468582b2fc03d5f8e2cd",
      "b7de1dac15ed4567a77fcba0e92f097d",
      "920351ab5adb4677b62084bd84c1698b",
      "df995a10504f4278b3af63a7bf7dafbf",
      "b40aab38fa0141afa3b6a91c43bc3e41"
     ]
    },
    "id": "pjJTIW1EORjS",
    "outputId": "68afc71e-b0a3-41d6-84f2-9ee245a1f72e"
   },
   "outputs": [
    {
     "data": {
      "application/vnd.jupyter.widget-view+json": {
       "model_id": "118ec4ae26fe4caab3d9724968e1586c",
       "version_major": 2,
       "version_minor": 0
      },
      "text/plain": [
       "interactive(children=(Dropdown(description='threshold', options=('2^5', '2^4', '2^3', '2^2', '2^1'), value='2^…"
      ]
     },
     "metadata": {
      "tags": []
     },
     "output_type": "display_data"
    }
   ],
   "source": [
    "# Here we can apply the same boolean dataframes for different log fold-change thresholds\n",
    "Down_5 = df_rna[df_rna.log2change < -5]\n",
    "Down_4 = df_rna[df_rna.log2change < -4]\n",
    "Down_3 = df_rna[df_rna.log2change < -3]\n",
    "Down_2 = df_rna[df_rna.log2change < -2]\n",
    "Down_1 = df_rna[df_rna.log2change < -1]\n",
    "\n",
    "# Be patient, this cell takes a moment to load as well as reload graphs when you change options using the dropdown menu\n",
    "seq_list0 = promoter_lookup(Down_5[\"Gene Name\"].to_list(), promoters)\n",
    "seq_list1 = promoter_lookup(Down_4[\"Gene Name\"].to_list(), promoters)\n",
    "seq_list2 = promoter_lookup(Down_3[\"Gene Name\"].to_list(), promoters)\n",
    "seq_list3 = promoter_lookup(Down_2[\"Gene Name\"].to_list(), promoters)\n",
    "seq_list4 = promoter_lookup(Down_1[\"Gene Name\"].to_list(), promoters)\n",
    "\n",
    "d_seq_lists = {\"2^5\":seq_list0,\n",
    " \"2^4\":seq_list1,\n",
    " \"2^3\":seq_list2,\n",
    " \"2^2\":seq_list3,\n",
    " \"2^1\":seq_list4\n",
    "}\n",
    "\n",
    "def f(threshold):\n",
    "    seq_list = d_seq_lists[threshold]\n",
    "    counts_mat = lm.alignment_to_matrix(seq_list)\n",
    "    info_mat = lm.transform_matrix(counts_mat, from_type='counts', to_type='information')\n",
    "    graph = lm.Logo(info_mat)\n",
    "    graph.ax.set_xticks(range(0,len(info_mat),5))\n",
    "    graph.ax.set_xticklabels('%+d'%x for x in range(-60,25,5))\n",
    "    print(\"Information logo generated using\",\"\\033[1m\", len(seq_list),\"\\033[0m\", \"sequences from genes downregulated in stationary phase by\", \"\\033[1m\",threshold,\"\\033[0m\" + \"-fold\")\n",
    "\n",
    "_ = interact(f, threshold=[\"2^5\",\"2^4\", \"2^3\", \"2^2\", \"2^1\"])"
   ]
  },
  {
   "cell_type": "markdown",
   "metadata": {
    "id": "3oTpXKxIOUp5"
   },
   "source": [
    "**Question 18:** As we lower the threshold, and increase the number of sequences in the information logo, do most of the positions increase or decrease in information content? Why is this?\n",
    "\n",
    "**Question 19:** If we could generate DNA where the base choice is completely random, what would the information logo calculated from all those sequences look like?\n",
    "\n",
    "**Question 20:** Change threshold to $2^2$ which shows the information logo for 276 of the most downregulated promoters in stationary phase. Based on the resulting logo and Fig 3, which elements of the *E. coli* sig70 promoter can be identified in the logo?"
   ]
  },
  {
   "cell_type": "markdown",
   "metadata": {
    "id": "du0QfZdJecCr"
   },
   "source": [
    "##**Part 3: Why do these motifs matter?**\n",
    "\n",
    "The sequence motifs that we generated from our bioinformatic analysis appeared for a reason. They have evolved to interact with specific domains of bacterial RNA polymerase. As mentioned in lecture, bacterial RNA polymerase recognizes and \"melts\" promoters via the sigma subunit. The housekeeping sigma factor sig70, responsible for the expression of the majority of genes in *E. coli*, has multiple domains within each responsible for different tasks during transcription initiation (Figure 4A).\n",
    "\n",
    "<img src=\"https://raw.githubusercontent.com/shih-lab/BIS198/main/assets/img/lab2/sig702_sig704_interaction.png\" height=750>\n",
    "\n",
    "**Figure 4:**\n",
    "\n",
    "\n"
   ]
  },
  {
   "cell_type": "markdown",
   "metadata": {
    "id": "O8FlQo73d5T1"
   },
   "source": [
    "Two of the most important of these domains are sig2, which recognizes the -10 element, and sig4, which recognizes the -35 element. Both domains form \"helix-turn-helix\" motifs that are able to fit into the major groove of the promoter DNA and interact with specific nucleotides (Figure 4B).\n",
    "\n",
    "**Question 21:** Looking at the logo you generated in Question 20, which element of the bacterial promoter is more important for gene expression: the -35 element or the -10 element? *Based on the logo* how did you come to this conclusion? *Biologically*, why might this element be more important?\n",
    "\n",
    "**Question 22:** Based on Figure 4B what would happen to the function of the promoter if we were to change the number of nucleotides between the -35 and -10 elements? Why? \n",
    "\n",
    "--------------------\n",
    "\n"
   ]
  },
  {
   "cell_type": "markdown",
   "metadata": {
    "id": "dz2XCqFMZv_D"
   },
   "source": [
    "\n",
    "The sig2 domain for the housekeeping sigma factor is responsible for opening up, or melting\", the double stranded DNA to allow for RNA synthesis to begin. It accomplished this by interacting with two nucleotides in the -10 element of the promoter (Figure 5A). Intensive research over many decades has elucidated the complex biophysical interactions between amino acids found in sig2 and the nucleotides of the -10 element (Figure 5B).\n",
    "\n",
    "<img src=\"https://raw.githubusercontent.com/shih-lab/BIS198/main/assets/img/lab2/-10_sig2_interaction_cartoon.png\" height=750>\n",
    "\n",
    "**Figure 5:**\n",
    "\n",
    "\n",
    "**Question 23:** What is the \"consensus\" -10 sequence from our logo we generated in Question 20? Will the sig2 domain be able to \"melt\" this element? Why or why not?\n",
    "\n",
    "--------------\n"
   ]
  },
  {
   "cell_type": "markdown",
   "metadata": {
    "id": "G2dbVu2lfJ0t"
   },
   "source": [
    "Scientists have learned a great deal about the specific chemical interactions between promoters and the proteins that bind them using a technique called X-Ray crystallography which allows researchers to 'solve' (oberve) the exact structure of complex biomolecules. From this work the precise chemical interactions between sig2 and one of the key conserved \"A\" residues (at pos -11) are known (Figure 6A and 6B). The amino acids that are responsible for these interactions have been conserved over billions of years in divergent evolution. As seen in Figure 6C the *E. coli* sig70 share the exact of biochemically similar amino acids at key positions as sigA of Thermus aquaticus, a phylogentically distant thermophilic bacterium.\n",
    "\n",
    "<img src=\"https://raw.githubusercontent.com/shih-lab/BIS198/main/assets/img/lab2/-10_sig2_interaction_structure.png\" height=600>\n",
    "\n",
    "**Figure 6:**\n",
    "\n",
    "**Question 24:** If we introduced sigA from Thermus aquaticus into *E. coli* heterologously on a plasmid, do you think it would be able to recognize the consensus promoter we generated in Question 20? Why or why not?\n",
    "\n",
    "**Question 25:** If we introduced sigA from *Thermus aquaticus* into *E. coli* heterologously on a plasmid that mutated the conserved aromatic amino acid phenylalanine at position 242 (F242) to a much smaller hydrophobic alanine amino acid, do you think it would be able to recognize the consensus promoter we generated in Question 20? Why or why not? \n"
   ]
  },
  {
   "cell_type": "markdown",
   "metadata": {
    "id": "Np51bZtulgKa"
   },
   "source": [
    "### Setup for Machine Learning promoter model.  Run the hidden cell before proceeding"
   ]
  },
  {
   "cell_type": "code",
   "execution_count": null,
   "metadata": {
    "id": "bjcRMhLHvcMq"
   },
   "outputs": [],
   "source": [
    "cmd = \"pip install tensorflow==2.0.0 keras==2.3.1\"\n",
    "process = subprocess.Popen(cmd.split(), stdout=subprocess.PIPE, stderr=subprocess.PIPE)\n",
    "stdout, stderr = process.communicate()\n",
    "\n",
    "from keras.utils.data_utils import get_file\n",
    "weights_path = get_file(\n",
    "            'bac_prom_weights.h5',\n",
    "            'https://github.com/shih-lab/BIS198/blob/main/datasets/weight_CNN.h5?raw=true')\n",
    "\n",
    "from keras.models import Sequential\n",
    "from keras.layers import Dense\n",
    "from keras.layers.core import Activation\n",
    "from keras.layers.convolutional import Conv2D, MaxPooling2D\n",
    "from keras.layers.core import Flatten\n",
    "from keras import optimizers\n",
    "from keras.callbacks import EarlyStopping,ModelCheckpoint\n",
    "from scipy.stats import pearsonr\n",
    "import tensorflow.keras.backend as K\n",
    "\n",
    "from numpy.random import seed\n",
    "seed(1)\n",
    "from tensorflow import random\n",
    "random.set_seed(2)\n",
    "\n",
    "class PREDICT():\n",
    "\n",
    "    def __init__(self):\n",
    "        self.model_weight = weights_path\n",
    "        self.CNN_train_num = 10000\n",
    "        self.shuffle_flag = 2\n",
    "    \n",
    "    def CNN_model(self,promoter_length):\n",
    "        model = Sequential()\n",
    "        model.add(\n",
    "                Conv2D(100, (6, 1),\n",
    "                padding='same',\n",
    "                input_shape=(promoter_length, 1, 4))\n",
    "                )\n",
    "        model.add(Activation('relu'))\n",
    "        model.add(MaxPooling2D(pool_size=(2, 1)))\n",
    "        model.add(Conv2D(200, (5, 1),padding='same'))\n",
    "        model.add(Activation('relu'))\n",
    "        model.add(Conv2D(200, (5, 1),padding='same'))\n",
    "        model.add(Activation('relu'))\n",
    "        model.add(MaxPooling2D(pool_size=(2, 1)))\n",
    "        model.add(Flatten())\n",
    "        model.add(Dense(1024))\n",
    "        model.add(Activation('relu'))\n",
    "        model.add(Dense(1))\n",
    "        return model\n",
    "        \n",
    "    def seq2onehot(self,seq):\n",
    "        module = np.array([[1,0,0,0],[0,1,0,0],[0,0,1,0],[0,0,0,1]])\n",
    "        i = 0\n",
    "        promoter_onehot = []\n",
    "        while i < len(seq):\n",
    "            tmp = []\n",
    "            for item in seq[i]:\n",
    "                if item == 't' or item == 'T':\n",
    "                    tmp.append(module[0])\n",
    "                elif item == 'c' or item == 'C':\n",
    "                    tmp.append(module[1])\n",
    "                elif item == 'g' or item == 'G':\n",
    "                    tmp.append(module[2])\n",
    "                elif item == 'a' or item == 'A':\n",
    "                    tmp.append(module[3])\n",
    "                else:\n",
    "                    tmp.append([0,0,0,0])\n",
    "            promoter_onehot.append(tmp)\n",
    "            i = i + 1\n",
    "        data = np.zeros((len(seq),50,1,4))\n",
    "        data = np.float32(data)\n",
    "        i = 0\n",
    "        while i < len(seq):\n",
    "            j = 0\n",
    "            while j < len(seq[0]):\n",
    "                data[i,j,0,:] = promoter_onehot[i][j]\n",
    "                j = j + 1\n",
    "            i = i + 1\n",
    "        return data\n",
    "    \n",
    "    def CNN_predict(self, x):\n",
    "        seq_onehot = self.seq2onehot(x)\n",
    "        model = self.CNN_model(len(seq_onehot[0]))\n",
    "        model.load_weights(self.model_weight)\n",
    "        batch_exp = model.predict(seq_onehot,verbose=0)\n",
    "        max_min = 4.321006\n",
    "        just_min = 5.468067\n",
    "        norm_exp = (batch_exp - just_min)/max_min\n",
    "        return norm_exp\n",
    "    \n",
    "    def compute_salient_bases(self, x):\n",
    "        seq_onehot = self.seq2onehot(x)\n",
    "        model = self.CNN_model(len(seq_onehot[0]))\n",
    "        model.load_weights(self.model_weight)\n",
    "        sgd = optimizers.SGD(lr=0.0005, decay=1e-6, momentum=0.9, nesterov=True)\n",
    "        model.compile(loss='mean_squared_error', optimizer=sgd)\n",
    "        input_tensors = [model.input]\n",
    "        gradients = model.optimizer.get_gradients(model.output[0][0], model.input)\n",
    "        compute_gradients = K.function(inputs = input_tensors, outputs = gradients)\n",
    "  \n",
    "        x_value = seq_onehot\n",
    "        gradients = compute_gradients([x_value])[0][0]\n",
    "        sal = np.clip(np.sum(np.multiply(gradients, seq_onehot), axis=-1),a_min=0, a_max=None)\n",
    "        sal_unclipped = np.sum(np.multiply(gradients, seq_onehot), axis=-1)\n",
    "        return sal.flatten()\n",
    "\n",
    "def generate_saliency_plot(my_seq):\n",
    "    my_seq = [my_seq]\n",
    "    sal = CNN_model.compute_salient_bases(my_seq)\n",
    "    legend_elements = [Patch(facecolor='C1',\n",
    "                         label='-35 region'),\n",
    "                   Patch(facecolor='C2',\n",
    "                        label='-10 region')\n",
    "                  ]\n",
    "    plt.figure(figsize=[16,5])\n",
    "    barlist = plt.bar(np.arange(len(sal)), sal)\n",
    "    [barlist[i].set_color('C1') for i in [15,16,17,18,19, 20]]\n",
    "    [barlist[i].set_color('C2') for i in [38,39,40,41,42,43]]\n",
    "    plt.xlabel('Bases')\n",
    "    plt.ylabel('Magnitude of saliency values')\n",
    "    plt.ylim(-0.1, 0.5)\n",
    "    plt.xticks(np.arange(len(sal)), [i for i in my_seq[0]]);\n",
    "    plt.legend(handles=legend_elements, fontsize=15);\n",
    "    score = CNN_model.CNN_predict(my_seq)[0][0].round(3)\n",
    "    print(\"Predicted promoter strength of\", my_seq[0], \"(Max is 1):\", score)\n",
    "\n",
    "def predict_promoter_strength(seq):\n",
    "    score = CNN_model.CNN_predict([seq])\n",
    "    score = score[0][0].round(3)\n",
    "    print(\"Predicted promoter strength of\", seq, \"(Max is 1):\", score)"
   ]
  },
  {
   "cell_type": "markdown",
   "metadata": {
    "id": "oZGZiS-Bes1o"
   },
   "source": [
    "# **Part 4: Modern day promoter design using big data**"
   ]
  },
  {
   "cell_type": "markdown",
   "metadata": {
    "id": "6OQeKY3tvsff"
   },
   "source": [
    "Though we have learned about how promoter sequence relates to expression strength using classical experimental techniques, the reality is much more complicated.  For a promoter that is 50nt long, there are $4^{50} \\approx 1\\mathrm{e}30$.  It is not practical to evaluate all possible permutations and difficult to predict the impact that single nucleotide changes may have on the interaction between promoters and RNA polymerase.  Furthermore, there is still a great deal of fundamental biochemistry and biophysics that govern transcription that we simply do not understand yet.  How then can we predict the strength of a promoter just by looking at its sequence if we are so incapable and ignorant?\n",
    "\n",
    "One approach is to model promoter strength from measured data.  Below, we will use a convolutional neural network (CNN) from [this manuscript](https://academic.oup.com/nar/article/48/12/6403/5837049) which is trained on data from RNA-sequencing of transcriptional start sites in *E. coli*.  Broadly speaking, this \"training\" transforms the DNA-sequence into a score for expression strength while optimizing for the accuracy of the predictions.  After many rounds, the model will become better at assigning the right score to the promoter sequence. This model will take a 50 nucleotide input and we have normalized the output so it shows a percentile score of what it believes to be the promoter strength with a max score of $1$ and minimum score of $0$.\n",
    "\n",
    "<img src=\"https://raw.githubusercontent.com/shih-lab/BIS198/main/assets/img/lab2/deep_promoter_cartoon.png\" height=600>\n",
    "\n",
    "**Figure 7:** Layout of a machine-learning workflow taken from cartoon in the manuscript: [Synthetic promoter design in Escherichia coli based on a deep generative network](https://academic.oup.com/nar/article/48/12/6403/5837049)\n",
    "\n",
    "**Note to students:** This course will not focus on machine learning.  Machine learning is still a developing and active area of research in computer science and beyond the scope of this course.  Though many biologists use machine learning to analyze their data, most of us do not fully understand how it all comes together.  It is okay if you don't either.  What matters is that we can generate predictions that we will test in the lab."
   ]
  },
  {
   "cell_type": "code",
   "execution_count": null,
   "metadata": {
    "id": "VIhDgyAknV4K"
   },
   "outputs": [],
   "source": [
    "# Initialize the model\n",
    "CNN_model = PREDICT()"
   ]
  },
  {
   "cell_type": "code",
   "execution_count": null,
   "metadata": {
    "colab": {
     "base_uri": "https://localhost:8080/"
    },
    "id": "yKWj0bPN0zZz",
    "outputId": "395cad78-05d7-42b4-c054-b474821b8a4e"
   },
   "outputs": [
    {
     "name": "stdout",
     "output_type": "stream",
     "text": [
      "Predicted promoter strength of gggggggggggggggggggggggggggggggggggggggggggggggggg (Max is 1): 0.077\n",
      "Predicted promoter strength of gacaccatcgaatggcgcaaaacctttcgcggtatggcatgatagcgccc (Max is 1): 0.362\n",
      "Predicted promoter strength of gcggccgcatctagaTTTATGgctagctcagtcctaggTACAATgctagc (Max is 1): 0.38\n",
      "Predicted promoter strength of gcggccgcatctagaCTGACAgctagctcagtcctaggTATAATgctagc (Max is 1): 0.499\n",
      "Predicted promoter strength of gcggccgcatctagaTTGACAgctagctcagtcctaggTACTGTgctagc (Max is 1): 0.543\n",
      "Predicted promoter strength of ttttaaatttcctcttgtcaggccggaataactccctataatgcgccacc (Max is 1): 0.803\n"
     ]
    }
   ],
   "source": [
    "terrible_promoter = \"gggggggggggggggggggggggggggggggggggggggggggggggggg\"\n",
    "lacI = \"gacaccatcgaatggcgcaaaacctttcgcggtatggcatgatagcgccc\"\n",
    "anderson_weak = \"gcggccgcatctagaTTTATGgctagctcagtcctaggTACAATgctagc\"\n",
    "anderson_middle = \"gcggccgcatctagaCTGACAgctagctcagtcctaggTATAATgctagc\"\n",
    "anderson_strong = \"gcggccgcatctagaTTGACAgctagctcagtcctaggTACTGTgctagc\"\n",
    "rrsA = \"ttttaaatttcctcttgtcaggccggaataactccctataatgcgccacc\"\n",
    "\n",
    "predict_promoter_strength(terrible_promoter)\n",
    "predict_promoter_strength(lacI)\n",
    "predict_promoter_strength(anderson_weak)\n",
    "predict_promoter_strength(anderson_middle)\n",
    "predict_promoter_strength(anderson_strong)\n",
    "predict_promoter_strength(rrsA)"
   ]
  },
  {
   "cell_type": "markdown",
   "metadata": {
    "id": "WC3wbptSOtpC"
   },
   "source": [
    "Above, we have used the CNN model to predict strengths of different promoters of increasing strengths with a max score of $1$ and minimum score of $0$.  Among these sequences we have a promoter of all $G$, the endogenous lacI promoter sequence from *E. coli*, a suite of [constitutive promoters designed by Chris Anderson](http://parts.igem.org/Promoters/Catalog/Anderson) as a part of iGEM in 2006, as well as the promoter for the rrsA gene in *E.coli*\n",
    "\n",
    "**Question 26:** Given the predictions above, does this model seem like it is working? Why or why not?\n",
    "\n",
    "**Question 27:** Why is the promoter of all $G$s so weak from a ***biophysical*** standpoint?  What is the rrsA gene and why is its promoter so strong from a ***biological*** standpoint?"
   ]
  },
  {
   "cell_type": "code",
   "execution_count": null,
   "metadata": {
    "colab": {
     "base_uri": "https://localhost:8080/",
     "height": 355
    },
    "id": "vwtqrR2BOyXe",
    "outputId": "b2ddbb1d-74ea-467d-8849-94bd2337d4e4"
   },
   "outputs": [
    {
     "name": "stdout",
     "output_type": "stream",
     "text": [
      "Predicted promoter strength of gcggccgcatctagaTTTATGgctagctcagtcctaggTACAATgctagc (Max is 1): 0.38\n"
     ]
    },
    {
     "data": {
      "image/png": "[encoded data removed]",
      "text/plain": [
       "<Figure size 1152x360 with 1 Axes>"
      ]
     },
     "metadata": {
      "needs_background": "light",
      "tags": []
     },
     "output_type": "display_data"
    }
   ],
   "source": [
    "generate_saliency_plot(anderson_weak)"
   ]
  },
  {
   "cell_type": "code",
   "execution_count": null,
   "metadata": {
    "colab": {
     "base_uri": "https://localhost:8080/",
     "height": 355
    },
    "id": "aiwXRCNbO0Uo",
    "outputId": "4dcfe390-7771-4e70-b069-fee9794677c4"
   },
   "outputs": [
    {
     "name": "stdout",
     "output_type": "stream",
     "text": [
      "Predicted promoter strength of gcggccgcatctagaTTGACAgctagctcagtcctaggTACTGTgctagc (Max is 1): 0.543\n"
     ]
    },
    {
     "data": {
      "image/png": "[encoded data removed]",
      "text/plain": [
       "<Figure size 1152x360 with 1 Axes>"
      ]
     },
     "metadata": {
      "needs_background": "light",
      "tags": []
     },
     "output_type": "display_data"
    }
   ],
   "source": [
    "generate_saliency_plot(anderson_strong)"
   ]
  },
  {
   "cell_type": "markdown",
   "metadata": {
    "id": "Fq1nEpHiO4rD"
   },
   "source": [
    "Saliency maps are a way to visualize the influence each position and nucleotide has on the final score of the model. Above we have generated two saliency maps for the weak and strong anderson promoters respectively. The Anderson promoter designs were made such that only the $-10$ and $-35$ elements were modified between each design and the bases for the regions are highlighted and capitalized in the maps above.  The saliency map does give you information on which specific nucelotide and position will change the score the most if modified.  In the case of the strong anderson promoter, changing the second $T$ will likely affect the score the most.\n",
    "\n",
    "While saliency maps can be useful, they must be interpreted individually and only for that specific sequence as the saliency map changes as the sequence changes.  This is very evident at the first $T$ in the $-35$ region of for both the weak and strong anderson promoter as both sequences have a $T$, in that position but the saliency value is much larger for the strong promoter.  So while it is useful to use the saliency map to gauge the importance of certain nucleotides and positions, it is not as simple that any individual nucleotide is \"stronger\" than another and sequence context matters.\n",
    "\n",
    "With that said, below, if we change the second $T$ at the $-35$ in the strong Anderson promoter, we decrease the score from $0.54$ to $0.41$, thus making the mutated strong promoter closer to the strength of the weak Anderson promoter."
   ]
  },
  {
   "cell_type": "code",
   "execution_count": null,
   "metadata": {
    "colab": {
     "base_uri": "https://localhost:8080/",
     "height": 355
    },
    "id": "j6BzgxC0O797",
    "outputId": "36d0f291-2c8c-42cb-98e9-94159dad6eca"
   },
   "outputs": [
    {
     "name": "stdout",
     "output_type": "stream",
     "text": [
      "Predicted promoter strength of gcggccgcatctagaTgGACAgctagctcagtcctaggTACTGTgctagc (Max is 1): 0.414\n"
     ]
    },
    {
     "data": {
      "image/png": "[encoded data removed]",
      "text/plain": [
       "<Figure size 1152x360 with 1 Axes>"
      ]
     },
     "metadata": {
      "needs_background": "light",
      "tags": []
     },
     "output_type": "display_data"
    }
   ],
   "source": [
    "anderson_salient_T_to_G = \"gcggccgcatctagaTgGACAgctagctcagtcctaggTACTGTgctagc\"\n",
    "generate_saliency_plot(anderson_salient_T_to_G)"
   ]
  },
  {
   "cell_type": "markdown",
   "metadata": {
    "id": "K3upDVlaO-N4"
   },
   "source": [
    "We can now try to design our own promoters using the CNN model and with the help of the biology you have learned in this lab as well as the saliency map.\n",
    "\n",
    "**Question 28:** You are a promoter engineer for a biotech startup with limited resources.  You are tasked to create additional **50 nucleotide long promoters** of various strengths from the known Anderson promoters provided below. Times are tough and for each of your DNA-sequences you design, you can only **make a maximum of 5 mutations** to a sequence.  Luckily, your machine-learning engineers provide you a CNN model that can predict *E.coli* promoter strengths from 50nt DNA sequences.  Your designs must be based off of `anderson_weak`, `anderson_middle`, or `anderson_strong`.  You can make the nucleotide mutations anywhere, but remember that it is limited to 5 and also the sequences **must be 50 nucleotides in length**\n",
    "\n",
    "Please design a promoter using one of the Anderson promoters below to hit a target strength of less than $0.33$ with $5$ mutations or less.\n",
    "\n",
    "Please design a promoter using one of the Anderson promoters below to hit a target strength of greater than $0.6$ with $5$ mutations or less."
   ]
  },
  {
   "cell_type": "code",
   "execution_count": null,
   "metadata": {
    "colab": {
     "base_uri": "https://localhost:8080/",
     "height": 355
    },
    "id": "tKgoHS6zPBzH",
    "outputId": "6197ed99-1862-40ea-b20b-60a6b6d34002"
   },
   "outputs": [
    {
     "name": "stdout",
     "output_type": "stream",
     "text": [
      "Predicted promoter strength of gcggccgcatctagaTTGACAgctagctcagtcctaggTACTGTgctagc (Max is 1): 0.543\n"
     ]
    },
    {
     "data": {
      "image/png": "[encoded data removed]",
      "text/plain": [
       "<Figure size 1152x360 with 1 Axes>"
      ]
     },
     "metadata": {
      "needs_background": "light",
      "tags": []
     },
     "output_type": "display_data"
    }
   ],
   "source": [
    "anderson_weak = \"gcggccgcatctagaTTTATGgctagctcagtcctaggTACAATgctagc\"\n",
    "anderson_middle = \"gcggccgcatctagaCTGACAgctagctcagtcctaggTATAATgctagc\"\n",
    "anderson_strong = \"gcggccgcatctagaTTGACAgctagctcagtcctaggTACTGTgctagc\"\n",
    "\n",
    "# You can test your sequences here by pasting them inside the function and re-running the cell\n",
    "generate_saliency_plot(\"gcggccgcatctagaTTGACAgctagctcagtcctaggTACTGTgctagc\")"
   ]
  }
 ],
 "metadata": {
  "colab": {
   "collapsed_sections": [],
   "name": "Lab2-logos_KM edits.ipynb",
   "provenance": []
  },
  "kernelspec": {
   "display_name": "Python 3",
   "language": "python",
   "name": "python3"
  },
  "language_info": {
   "codemirror_mode": {
    "name": "ipython",
    "version": 3
   },
   "file_extension": ".py",
   "mimetype": "text/x-python",
   "name": "python",
   "nbconvert_exporter": "python",
   "pygments_lexer": "ipython3",
   "version": "3.7.9"
  },
  "widgets": {
   "application/vnd.jupyter.widget-state+json": {
    "118ec4ae26fe4caab3d9724968e1586c": {
     "model_module": "@jupyter-widgets/controls",
     "model_name": "VBoxModel",
     "state": {
      "_dom_classes": [
       "widget-interact"
      ],
      "_model_module": "@jupyter-widgets/controls",
      "_model_module_version": "1.5.0",
      "_model_name": "VBoxModel",
      "_view_count": null,
      "_view_module": "@jupyter-widgets/controls",
      "_view_module_version": "1.5.0",
      "_view_name": "VBoxView",
      "box_style": "",
      "children": [
       "IPY_MODEL_7ca3cf92137a468582b2fc03d5f8e2cd",
       "IPY_MODEL_b7de1dac15ed4567a77fcba0e92f097d"
      ],
      "layout": "IPY_MODEL_c7170bf0044a4129a73fb7a63dc4cfdd"
     }
    },
    "7ca3cf92137a468582b2fc03d5f8e2cd": {
     "model_module": "@jupyter-widgets/controls",
     "model_name": "DropdownModel",
     "state": {
      "_dom_classes": [],
      "_model_module": "@jupyter-widgets/controls",
      "_model_module_version": "1.5.0",
      "_model_name": "DropdownModel",
      "_options_labels": [
       "2^5",
       "2^4",
       "2^3",
       "2^2",
       "2^1"
      ],
      "_view_count": null,
      "_view_module": "@jupyter-widgets/controls",
      "_view_module_version": "1.5.0",
      "_view_name": "DropdownView",
      "description": "threshold",
      "description_tooltip": null,
      "disabled": false,
      "index": 3,
      "layout": "IPY_MODEL_df995a10504f4278b3af63a7bf7dafbf",
      "style": "IPY_MODEL_920351ab5adb4677b62084bd84c1698b"
     }
    },
    "920351ab5adb4677b62084bd84c1698b": {
     "model_module": "@jupyter-widgets/controls",
     "model_name": "DescriptionStyleModel",
     "state": {
      "_model_module": "@jupyter-widgets/controls",
      "_model_module_version": "1.5.0",
      "_model_name": "DescriptionStyleModel",
      "_view_count": null,
      "_view_module": "@jupyter-widgets/base",
      "_view_module_version": "1.2.0",
      "_view_name": "StyleView",
      "description_width": ""
     }
    },
    "b40aab38fa0141afa3b6a91c43bc3e41": {
     "model_module": "@jupyter-widgets/base",
     "model_name": "LayoutModel",
     "state": {
      "_model_module": "@jupyter-widgets/base",
      "_model_module_version": "1.2.0",
      "_model_name": "LayoutModel",
      "_view_count": null,
      "_view_module": "@jupyter-widgets/base",
      "_view_module_version": "1.2.0",
      "_view_name": "LayoutView",
      "align_content": null,
      "align_items": null,
      "align_self": null,
      "border": null,
      "bottom": null,
      "display": null,
      "flex": null,
      "flex_flow": null,
      "grid_area": null,
      "grid_auto_columns": null,
      "grid_auto_flow": null,
      "grid_auto_rows": null,
      "grid_column": null,
      "grid_gap": null,
      "grid_row": null,
      "grid_template_areas": null,
      "grid_template_columns": null,
      "grid_template_rows": null,
      "height": null,
      "justify_content": null,
      "justify_items": null,
      "left": null,
      "margin": null,
      "max_height": null,
      "max_width": null,
      "min_height": null,
      "min_width": null,
      "object_fit": null,
      "object_position": null,
      "order": null,
      "overflow": null,
      "overflow_x": null,
      "overflow_y": null,
      "padding": null,
      "right": null,
      "top": null,
      "visibility": null,
      "width": null
     }
    },
    "b7de1dac15ed4567a77fcba0e92f097d": {
     "model_module": "@jupyter-widgets/output",
     "model_name": "OutputModel",
     "state": {
      "_dom_classes": [],
      "_model_module": "@jupyter-widgets/output",
      "_model_module_version": "1.0.0",
      "_model_name": "OutputModel",
      "_view_count": null,
      "_view_module": "@jupyter-widgets/output",
      "_view_module_version": "1.0.0",
      "_view_name": "OutputView",
      "layout": "IPY_MODEL_b40aab38fa0141afa3b6a91c43bc3e41",
      "msg_id": "",
      "outputs": [
       {
        "metadata": {
         "tags": []
        },
        "output_type": "stream",
        "stream": "stdout",
        "text": "Information logo generated using \u001b[1m 276 \u001b[0m sequences from genes downregulated in stationary phase by \u001b[1m 2^2 \u001b[0m-fold\n"
       },
       {
        "image/png": "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\n",
        "metadata": {
         "needs_background": "light",
         "tags": []
        },
        "output_type": "display_data",
        "text/plain": "<Figure size 720x180 with 1 Axes>"
       }
      ]
     }
    },
    "c7170bf0044a4129a73fb7a63dc4cfdd": {
     "model_module": "@jupyter-widgets/base",
     "model_name": "LayoutModel",
     "state": {
      "_model_module": "@jupyter-widgets/base",
      "_model_module_version": "1.2.0",
      "_model_name": "LayoutModel",
      "_view_count": null,
      "_view_module": "@jupyter-widgets/base",
      "_view_module_version": "1.2.0",
      "_view_name": "LayoutView",
      "align_content": null,
      "align_items": null,
      "align_self": null,
      "border": null,
      "bottom": null,
      "display": null,
      "flex": null,
      "flex_flow": null,
      "grid_area": null,
      "grid_auto_columns": null,
      "grid_auto_flow": null,
      "grid_auto_rows": null,
      "grid_column": null,
      "grid_gap": null,
      "grid_row": null,
      "grid_template_areas": null,
      "grid_template_columns": null,
      "grid_template_rows": null,
      "height": null,
      "justify_content": null,
      "justify_items": null,
      "left": null,
      "margin": null,
      "max_height": null,
      "max_width": null,
      "min_height": null,
      "min_width": null,
      "object_fit": null,
      "object_position": null,
      "order": null,
      "overflow": null,
      "overflow_x": null,
      "overflow_y": null,
      "padding": null,
      "right": null,
      "top": null,
      "visibility": null,
      "width": null
     }
    },
    "df995a10504f4278b3af63a7bf7dafbf": {
     "model_module": "@jupyter-widgets/base",
     "model_name": "LayoutModel",
     "state": {
      "_model_module": "@jupyter-widgets/base",
      "_model_module_version": "1.2.0",
      "_model_name": "LayoutModel",
      "_view_count": null,
      "_view_module": "@jupyter-widgets/base",
      "_view_module_version": "1.2.0",
      "_view_name": "LayoutView",
      "align_content": null,
      "align_items": null,
      "align_self": null,
      "border": null,
      "bottom": null,
      "display": null,
      "flex": null,
      "flex_flow": null,
      "grid_area": null,
      "grid_auto_columns": null,
      "grid_auto_flow": null,
      "grid_auto_rows": null,
      "grid_column": null,
      "grid_gap": null,
      "grid_row": null,
      "grid_template_areas": null,
      "grid_template_columns": null,
      "grid_template_rows": null,
      "height": null,
      "justify_content": null,
      "justify_items": null,
      "left": null,
      "margin": null,
      "max_height": null,
      "max_width": null,
      "min_height": null,
      "min_width": null,
      "object_fit": null,
      "object_position": null,
      "order": null,
      "overflow": null,
      "overflow_x": null,
      "overflow_y": null,
      "padding": null,
      "right": null,
      "top": null,
      "visibility": null,
      "width": null
     }
    }
   }
  }
 },
 "nbformat": 4,
 "nbformat_minor": 4
}
